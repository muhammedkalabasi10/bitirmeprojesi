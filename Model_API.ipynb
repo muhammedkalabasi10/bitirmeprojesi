{
  "cells": [
    {
      "cell_type": "code",
      "execution_count": null,
      "metadata": {
        "id": "zqIF89PpBPL5"
      },
      "outputs": [],
      "source": [
        "import gdown\n",
        "import tarfile\n",
        "import os\n",
        "import pickle\n",
        "from PIL import Image\n",
        "import matplotlib.pyplot as plt\n",
        "import pandas as pd\n",
        "import numpy as np\n",
        "from keras.preprocessing.sequence import pad_sequences\n",
        "from keras.preprocessing.text import Tokenizer\n",
        "from PIL import Image\n",
        "import tensorflow as tf\n",
        "from keras.regularizers import l2\n",
        "import cv2 as cv\n",
        "from keras.models import load_model\n",
        "from tensorflow.keras.applications import DenseNet121\n",
        "from tqdm.notebook import tqdm\n",
        "from tensorflow.keras.preprocessing.image import img_to_array\n",
        "from tensorflow.keras.backend import expand_dims\n",
        "from tensorflow import concat\n",
        "tf.compat.v1.enable_eager_execution()\n",
        "from tensorflow.keras.layers import TimeDistributed\n",
        "import cv2\n",
        "from google.colab.patches import cv2_imshow\n",
        "from tensorflow.keras.layers import Input, Softmax, RNN, Dense, Embedding, LSTM,Layer,Dropout,GRU\n",
        "from tensorflow.keras.models import Model\n",
        "import numpy as np\n",
        "from sklearn.model_selection import train_test_split\n",
        "from tensorflow import repeat\n",
        "from sklearn.utils import shuffle\n",
        "import nltk.translate.bleu_score as bleu\n",
        "import warnings\n",
        "warnings.filterwarnings('ignore')"
      ]
    },
    {
      "cell_type": "code",
      "execution_count": null,
      "metadata": {
        "colab": {
          "base_uri": "https://localhost:8080/",
          "height": 104
        },
        "id": "_QAwLIedBimm",
        "outputId": "99bba1b4-2352-4160-bbe5-e92e9d924e69"
      },
      "outputs": [
        {
          "name": "stderr",
          "output_type": "stream",
          "text": [
            "Downloading...\n",
            "From: https://drive.google.com/uc?id=1U7D9lnjH-0CaXzhmua2rMtmdgS4DEH2k\n",
            "To: /content/proccessed.pkl\n",
            "100%|██████████| 58.1M/58.1M [00:00<00:00, 82.4MB/s]\n"
          ]
        },
        {
          "data": {
            "application/vnd.google.colaboratory.intrinsic+json": {
              "type": "string"
            },
            "text/plain": [
              "'proccessed.pkl'"
            ]
          },
          "execution_count": 2,
          "metadata": {},
          "output_type": "execute_result"
        }
      ],
      "source": [
        "url = 'https://drive.google.com/uc?id=1U7D9lnjH-0CaXzhmua2rMtmdgS4DEH2k'\n",
        "output = 'proccessed.pkl'\n",
        "gdown.download(url, output, quiet=False)"
      ]
    },
    {
      "cell_type": "code",
      "execution_count": null,
      "metadata": {
        "colab": {
          "base_uri": "https://localhost:8080/",
          "height": 142
        },
        "id": "K3VINgwJBm7g",
        "outputId": "c52b60d2-c796-43eb-a689-a074c673e7ad"
      },
      "outputs": [
        {
          "name": "stderr",
          "output_type": "stream",
          "text": [
            "Downloading...\n",
            "From (original): https://drive.google.com/uc?id=1--clwDc2F3_CF6O4EB_BnDewFjHmFL_7\n",
            "From (redirected): https://drive.google.com/uc?id=1--clwDc2F3_CF6O4EB_BnDewFjHmFL_7&confirm=t&uuid=eff63665-6ad5-4e7d-835d-0cc1b99143db\n",
            "To: /content/NLMCXR_png.tgz\n",
            "100%|██████████| 1.36G/1.36G [00:28<00:00, 48.2MB/s]\n"
          ]
        },
        {
          "data": {
            "application/vnd.google.colaboratory.intrinsic+json": {
              "type": "string"
            },
            "text/plain": [
              "'NLMCXR_png.tgz'"
            ]
          },
          "execution_count": 3,
          "metadata": {},
          "output_type": "execute_result"
        }
      ],
      "source": [
        "url = 'https://drive.google.com/uc?id=1--clwDc2F3_CF6O4EB_BnDewFjHmFL_7'\n",
        "output = 'NLMCXR_png.tgz'\n",
        "gdown.download(url, output, quiet=False)"
      ]
    },
    {
      "cell_type": "code",
      "execution_count": null,
      "metadata": {
        "id": "Z1VLX8wJBz5c"
      },
      "outputs": [],
      "source": [
        "cwd = os.getcwd()\n",
        "tf1 = tarfile.open('NLMCXR_png.tgz')\n",
        "tf1.extractall(cwd+'/png/')"
      ]
    },
    {
      "cell_type": "code",
      "execution_count": null,
      "metadata": {
        "id": "-Vl0swwPB9ct"
      },
      "outputs": [],
      "source": [
        "data = pd.read_pickle('/content/proccessed.pkl')"
      ]
    },
    {
      "cell_type": "code",
      "execution_count": null,
      "metadata": {
        "colab": {
          "base_uri": "https://localhost:8080/"
        },
        "id": "VrRehkOopfas",
        "outputId": "02eec223-0696-4275-dcce-fb0132ec04a2"
      },
      "outputs": [
        {
          "data": {
            "text/plain": [
              "(3337, 8)"
            ]
          },
          "execution_count": 6,
          "metadata": {},
          "output_type": "execute_result"
        }
      ],
      "source": [
        "data.shape"
      ]
    },
    {
      "cell_type": "code",
      "execution_count": null,
      "metadata": {
        "colab": {
          "base_uri": "https://localhost:8080/",
          "height": 486
        },
        "id": "NbKZHNhMOFNQ",
        "outputId": "37ec96e0-b961-480b-c49c-0128a6740892"
      },
      "outputs": [
        {
          "data": {
            "application/vnd.google.colaboratory.intrinsic+json": {
              "summary": "{\n  \"name\": \"data\",\n  \"rows\": 3337,\n  \"fields\": [\n    {\n      \"column\": \"patient_id\",\n      \"properties\": {\n        \"dtype\": \"string\",\n        \"num_unique_values\": 3337,\n        \"samples\": [\n          \"CXR1320\",\n          \"CXR3942\",\n          \"CXR2428\"\n        ],\n        \"semantic_type\": \"\",\n        \"description\": \"\"\n      }\n    },\n    {\n      \"column\": \"image1\",\n      \"properties\": {\n        \"dtype\": \"string\",\n        \"num_unique_values\": 3337,\n        \"samples\": [\n          \"/content/png/CXR1320_IM-0207-1001.png\",\n          \"/content/png/CXR3942_IM-2013-1001.png\",\n          \"/content/png/CXR2428_IM-0970-1001.png\"\n        ],\n        \"semantic_type\": \"\",\n        \"description\": \"\"\n      }\n    },\n    {\n      \"column\": \"image2\",\n      \"properties\": {\n        \"dtype\": \"string\",\n        \"num_unique_values\": 3337,\n        \"samples\": [\n          \"/content/png/CXR1320_IM-0207-2001.png\",\n          \"/content/png/CXR3942_IM-2013-2001.png\",\n          \"/content/png/CXR2428_IM-0970-3001.png\"\n        ],\n        \"semantic_type\": \"\",\n        \"description\": \"\"\n      }\n    },\n    {\n      \"column\": \"findings\",\n      \"properties\": {\n        \"dtype\": \"string\",\n        \"num_unique_values\": 2548,\n        \"samples\": [\n          \"the heart is top normal in size. the mediastinum is stable. the aorta is atherosclerotic. there are mild chronic changes without focal consolidation. no pleural effusion is seen.\",\n          \"the lungs are clear. there is hyperinflation of the lungs. there is no pleural effusion or pneumothora. the heart and mediastinum are normal. mild arthritic changes of the spine are present.\",\n          \"the lungs are clear. there is no pleural effusion or pneumothora. the heart is not significantly enlarged. there are atherosclerotic changes of the aorta. there are severe arthritic changes of the with mild arthritic changes of the thoracic spine.\"\n        ],\n        \"semantic_type\": \"\",\n        \"description\": \"\"\n      }\n    },\n    {\n      \"column\": \"image_features\",\n      \"properties\": {\n        \"dtype\": \"object\",\n        \"semantic_type\": \"\",\n        \"description\": \"\"\n      }\n    },\n    {\n      \"column\": \"findings_total\",\n      \"properties\": {\n        \"dtype\": \"string\",\n        \"num_unique_values\": 2548,\n        \"samples\": [\n          \"<start> the heart is top normal in size. the mediastinum is stable. the aorta is atherosclerotic. there are mild chronic changes without focal consolidation. no pleural effusion is seen. <end>\",\n          \"<start> the lungs are clear. there is hyperinflation of the lungs. there is no pleural effusion or pneumothora. the heart and mediastinum are normal. mild arthritic changes of the spine are present. <end>\",\n          \"<start> the lungs are clear. there is no pleural effusion or pneumothora. the heart is not significantly enlarged. there are atherosclerotic changes of the aorta. there are severe arthritic changes of the with mild arthritic changes of the thoracic spine. <end>\"\n        ],\n        \"semantic_type\": \"\",\n        \"description\": \"\"\n      }\n    },\n    {\n      \"column\": \"dec_ip\",\n      \"properties\": {\n        \"dtype\": \"string\",\n        \"num_unique_values\": 2548,\n        \"samples\": [\n          \"<start> the heart is top normal in size. the mediastinum is stable. the aorta is atherosclerotic. there are mild chronic changes without focal consolidation. no pleural effusion is seen.\",\n          \"<start> the lungs are clear. there is hyperinflation of the lungs. there is no pleural effusion or pneumothora. the heart and mediastinum are normal. mild arthritic changes of the spine are present.\",\n          \"<start> the lungs are clear. there is no pleural effusion or pneumothora. the heart is not significantly enlarged. there are atherosclerotic changes of the aorta. there are severe arthritic changes of the with mild arthritic changes of the thoracic spine.\"\n        ],\n        \"semantic_type\": \"\",\n        \"description\": \"\"\n      }\n    },\n    {\n      \"column\": \"dec_op\",\n      \"properties\": {\n        \"dtype\": \"string\",\n        \"num_unique_values\": 2548,\n        \"samples\": [\n          \"the heart is top normal in size. the mediastinum is stable. the aorta is atherosclerotic. there are mild chronic changes without focal consolidation. no pleural effusion is seen. <end>\",\n          \"the lungs are clear. there is hyperinflation of the lungs. there is no pleural effusion or pneumothora. the heart and mediastinum are normal. mild arthritic changes of the spine are present. <end>\",\n          \"the lungs are clear. there is no pleural effusion or pneumothora. the heart is not significantly enlarged. there are atherosclerotic changes of the aorta. there are severe arthritic changes of the with mild arthritic changes of the thoracic spine. <end>\"\n        ],\n        \"semantic_type\": \"\",\n        \"description\": \"\"\n      }\n    }\n  ]\n}",
              "type": "dataframe",
              "variable_name": "data"
            },
            "text/html": [
              "\n",
              "  <div id=\"df-435a7a9a-8597-4a29-ad25-f5409564d718\" class=\"colab-df-container\">\n",
              "    <div>\n",
              "<style scoped>\n",
              "    .dataframe tbody tr th:only-of-type {\n",
              "        vertical-align: middle;\n",
              "    }\n",
              "\n",
              "    .dataframe tbody tr th {\n",
              "        vertical-align: top;\n",
              "    }\n",
              "\n",
              "    .dataframe thead th {\n",
              "        text-align: right;\n",
              "    }\n",
              "</style>\n",
              "<table border=\"1\" class=\"dataframe\">\n",
              "  <thead>\n",
              "    <tr style=\"text-align: right;\">\n",
              "      <th></th>\n",
              "      <th>patient_id</th>\n",
              "      <th>image1</th>\n",
              "      <th>image2</th>\n",
              "      <th>findings</th>\n",
              "      <th>image_features</th>\n",
              "      <th>findings_total</th>\n",
              "      <th>dec_ip</th>\n",
              "      <th>dec_op</th>\n",
              "    </tr>\n",
              "  </thead>\n",
              "  <tbody>\n",
              "    <tr>\n",
              "      <th>0</th>\n",
              "      <td>CXR3556</td>\n",
              "      <td>/content/png/CXR3556_IM-1741-1001-0001.png</td>\n",
              "      <td>/content/png/CXR3556_IM-1741-1001-0002.png</td>\n",
              "      <td>the lungs are clear. there is no pleural effus...</td>\n",
              "      <td>[[0.00041582860285416245, 0.001570420921780169...</td>\n",
              "      <td>&lt;start&gt; the lungs are clear. there is no pleur...</td>\n",
              "      <td>&lt;start&gt; the lungs are clear. there is no pleur...</td>\n",
              "      <td>the lungs are clear. there is no pleural effus...</td>\n",
              "    </tr>\n",
              "    <tr>\n",
              "      <th>2</th>\n",
              "      <td>CXR32</td>\n",
              "      <td>/content/png/CXR32_IM-1511-1001.png</td>\n",
              "      <td>/content/png/CXR32_IM-1511-4001.png</td>\n",
              "      <td>the heart is normal in size. the mediastinum i...</td>\n",
              "      <td>[[0.0005354544264264405, 0.0019668142776936293...</td>\n",
              "      <td>&lt;start&gt; the heart is normal in size. the media...</td>\n",
              "      <td>&lt;start&gt; the heart is normal in size. the media...</td>\n",
              "      <td>the heart is normal in size. the mediastinum i...</td>\n",
              "    </tr>\n",
              "    <tr>\n",
              "      <th>4</th>\n",
              "      <td>CXR260</td>\n",
              "      <td>/content/png/CXR260_IM-1090-1001.png</td>\n",
              "      <td>/content/png/CXR260_IM-1090-2001.png</td>\n",
              "      <td>lungs are clear bilaterally. cardiac and media...</td>\n",
              "      <td>[[0.0002745636156760156, 0.0018877924885600805...</td>\n",
              "      <td>&lt;start&gt; lungs are clear bilaterally. cardiac a...</td>\n",
              "      <td>&lt;start&gt; lungs are clear bilaterally. cardiac a...</td>\n",
              "      <td>lungs are clear bilaterally. cardiac and media...</td>\n",
              "    </tr>\n",
              "    <tr>\n",
              "      <th>5</th>\n",
              "      <td>CXR1301</td>\n",
              "      <td>/content/png/CXR1301_IM-0198-1001.png</td>\n",
              "      <td>/content/png/CXR1301_IM-0198-2001.png</td>\n",
              "      <td>heart size within normal limits, stable medias...</td>\n",
              "      <td>[[0.0005874697235412896, 0.0018448150949552655...</td>\n",
              "      <td>&lt;start&gt; heart size within normal limits, stabl...</td>\n",
              "      <td>&lt;start&gt; heart size within normal limits, stabl...</td>\n",
              "      <td>heart size within normal limits, stable medias...</td>\n",
              "    </tr>\n",
              "    <tr>\n",
              "      <th>6</th>\n",
              "      <td>CXR1921</td>\n",
              "      <td>/content/png/CXR1921_IM-0598-1001.png</td>\n",
              "      <td>/content/png/CXR1921_IM-0598-2001.png</td>\n",
              "      <td>redemonstration of moderately-inflated lungs, ...</td>\n",
              "      <td>[[0.00029747304506599903, 0.0014215346891433, ...</td>\n",
              "      <td>&lt;start&gt; redemonstration of moderately-inflated...</td>\n",
              "      <td>&lt;start&gt; redemonstration of moderately-inflated...</td>\n",
              "      <td>redemonstration of moderately-inflated lungs, ...</td>\n",
              "    </tr>\n",
              "  </tbody>\n",
              "</table>\n",
              "</div>\n",
              "    <div class=\"colab-df-buttons\">\n",
              "\n",
              "  <div class=\"colab-df-container\">\n",
              "    <button class=\"colab-df-convert\" onclick=\"convertToInteractive('df-435a7a9a-8597-4a29-ad25-f5409564d718')\"\n",
              "            title=\"Convert this dataframe to an interactive table.\"\n",
              "            style=\"display:none;\">\n",
              "\n",
              "  <svg xmlns=\"http://www.w3.org/2000/svg\" height=\"24px\" viewBox=\"0 -960 960 960\">\n",
              "    <path d=\"M120-120v-720h720v720H120Zm60-500h600v-160H180v160Zm220 220h160v-160H400v160Zm0 220h160v-160H400v160ZM180-400h160v-160H180v160Zm440 0h160v-160H620v160ZM180-180h160v-160H180v160Zm440 0h160v-160H620v160Z\"/>\n",
              "  </svg>\n",
              "    </button>\n",
              "\n",
              "  <style>\n",
              "    .colab-df-container {\n",
              "      display:flex;\n",
              "      gap: 12px;\n",
              "    }\n",
              "\n",
              "    .colab-df-convert {\n",
              "      background-color: #E8F0FE;\n",
              "      border: none;\n",
              "      border-radius: 50%;\n",
              "      cursor: pointer;\n",
              "      display: none;\n",
              "      fill: #1967D2;\n",
              "      height: 32px;\n",
              "      padding: 0 0 0 0;\n",
              "      width: 32px;\n",
              "    }\n",
              "\n",
              "    .colab-df-convert:hover {\n",
              "      background-color: #E2EBFA;\n",
              "      box-shadow: 0px 1px 2px rgba(60, 64, 67, 0.3), 0px 1px 3px 1px rgba(60, 64, 67, 0.15);\n",
              "      fill: #174EA6;\n",
              "    }\n",
              "\n",
              "    .colab-df-buttons div {\n",
              "      margin-bottom: 4px;\n",
              "    }\n",
              "\n",
              "    [theme=dark] .colab-df-convert {\n",
              "      background-color: #3B4455;\n",
              "      fill: #D2E3FC;\n",
              "    }\n",
              "\n",
              "    [theme=dark] .colab-df-convert:hover {\n",
              "      background-color: #434B5C;\n",
              "      box-shadow: 0px 1px 3px 1px rgba(0, 0, 0, 0.15);\n",
              "      filter: drop-shadow(0px 1px 2px rgba(0, 0, 0, 0.3));\n",
              "      fill: #FFFFFF;\n",
              "    }\n",
              "  </style>\n",
              "\n",
              "    <script>\n",
              "      const buttonEl =\n",
              "        document.querySelector('#df-435a7a9a-8597-4a29-ad25-f5409564d718 button.colab-df-convert');\n",
              "      buttonEl.style.display =\n",
              "        google.colab.kernel.accessAllowed ? 'block' : 'none';\n",
              "\n",
              "      async function convertToInteractive(key) {\n",
              "        const element = document.querySelector('#df-435a7a9a-8597-4a29-ad25-f5409564d718');\n",
              "        const dataTable =\n",
              "          await google.colab.kernel.invokeFunction('convertToInteractive',\n",
              "                                                    [key], {});\n",
              "        if (!dataTable) return;\n",
              "\n",
              "        const docLinkHtml = 'Like what you see? Visit the ' +\n",
              "          '<a target=\"_blank\" href=https://colab.research.google.com/notebooks/data_table.ipynb>data table notebook</a>'\n",
              "          + ' to learn more about interactive tables.';\n",
              "        element.innerHTML = '';\n",
              "        dataTable['output_type'] = 'display_data';\n",
              "        await google.colab.output.renderOutput(dataTable, element);\n",
              "        const docLink = document.createElement('div');\n",
              "        docLink.innerHTML = docLinkHtml;\n",
              "        element.appendChild(docLink);\n",
              "      }\n",
              "    </script>\n",
              "  </div>\n",
              "\n",
              "\n",
              "<div id=\"df-ae309371-e508-4527-88dd-1d46cdf815b8\">\n",
              "  <button class=\"colab-df-quickchart\" onclick=\"quickchart('df-ae309371-e508-4527-88dd-1d46cdf815b8')\"\n",
              "            title=\"Suggest charts\"\n",
              "            style=\"display:none;\">\n",
              "\n",
              "<svg xmlns=\"http://www.w3.org/2000/svg\" height=\"24px\"viewBox=\"0 0 24 24\"\n",
              "     width=\"24px\">\n",
              "    <g>\n",
              "        <path d=\"M19 3H5c-1.1 0-2 .9-2 2v14c0 1.1.9 2 2 2h14c1.1 0 2-.9 2-2V5c0-1.1-.9-2-2-2zM9 17H7v-7h2v7zm4 0h-2V7h2v10zm4 0h-2v-4h2v4z\"/>\n",
              "    </g>\n",
              "</svg>\n",
              "  </button>\n",
              "\n",
              "<style>\n",
              "  .colab-df-quickchart {\n",
              "      --bg-color: #E8F0FE;\n",
              "      --fill-color: #1967D2;\n",
              "      --hover-bg-color: #E2EBFA;\n",
              "      --hover-fill-color: #174EA6;\n",
              "      --disabled-fill-color: #AAA;\n",
              "      --disabled-bg-color: #DDD;\n",
              "  }\n",
              "\n",
              "  [theme=dark] .colab-df-quickchart {\n",
              "      --bg-color: #3B4455;\n",
              "      --fill-color: #D2E3FC;\n",
              "      --hover-bg-color: #434B5C;\n",
              "      --hover-fill-color: #FFFFFF;\n",
              "      --disabled-bg-color: #3B4455;\n",
              "      --disabled-fill-color: #666;\n",
              "  }\n",
              "\n",
              "  .colab-df-quickchart {\n",
              "    background-color: var(--bg-color);\n",
              "    border: none;\n",
              "    border-radius: 50%;\n",
              "    cursor: pointer;\n",
              "    display: none;\n",
              "    fill: var(--fill-color);\n",
              "    height: 32px;\n",
              "    padding: 0;\n",
              "    width: 32px;\n",
              "  }\n",
              "\n",
              "  .colab-df-quickchart:hover {\n",
              "    background-color: var(--hover-bg-color);\n",
              "    box-shadow: 0 1px 2px rgba(60, 64, 67, 0.3), 0 1px 3px 1px rgba(60, 64, 67, 0.15);\n",
              "    fill: var(--button-hover-fill-color);\n",
              "  }\n",
              "\n",
              "  .colab-df-quickchart-complete:disabled,\n",
              "  .colab-df-quickchart-complete:disabled:hover {\n",
              "    background-color: var(--disabled-bg-color);\n",
              "    fill: var(--disabled-fill-color);\n",
              "    box-shadow: none;\n",
              "  }\n",
              "\n",
              "  .colab-df-spinner {\n",
              "    border: 2px solid var(--fill-color);\n",
              "    border-color: transparent;\n",
              "    border-bottom-color: var(--fill-color);\n",
              "    animation:\n",
              "      spin 1s steps(1) infinite;\n",
              "  }\n",
              "\n",
              "  @keyframes spin {\n",
              "    0% {\n",
              "      border-color: transparent;\n",
              "      border-bottom-color: var(--fill-color);\n",
              "      border-left-color: var(--fill-color);\n",
              "    }\n",
              "    20% {\n",
              "      border-color: transparent;\n",
              "      border-left-color: var(--fill-color);\n",
              "      border-top-color: var(--fill-color);\n",
              "    }\n",
              "    30% {\n",
              "      border-color: transparent;\n",
              "      border-left-color: var(--fill-color);\n",
              "      border-top-color: var(--fill-color);\n",
              "      border-right-color: var(--fill-color);\n",
              "    }\n",
              "    40% {\n",
              "      border-color: transparent;\n",
              "      border-right-color: var(--fill-color);\n",
              "      border-top-color: var(--fill-color);\n",
              "    }\n",
              "    60% {\n",
              "      border-color: transparent;\n",
              "      border-right-color: var(--fill-color);\n",
              "    }\n",
              "    80% {\n",
              "      border-color: transparent;\n",
              "      border-right-color: var(--fill-color);\n",
              "      border-bottom-color: var(--fill-color);\n",
              "    }\n",
              "    90% {\n",
              "      border-color: transparent;\n",
              "      border-bottom-color: var(--fill-color);\n",
              "    }\n",
              "  }\n",
              "</style>\n",
              "\n",
              "  <script>\n",
              "    async function quickchart(key) {\n",
              "      const quickchartButtonEl =\n",
              "        document.querySelector('#' + key + ' button');\n",
              "      quickchartButtonEl.disabled = true;  // To prevent multiple clicks.\n",
              "      quickchartButtonEl.classList.add('colab-df-spinner');\n",
              "      try {\n",
              "        const charts = await google.colab.kernel.invokeFunction(\n",
              "            'suggestCharts', [key], {});\n",
              "      } catch (error) {\n",
              "        console.error('Error during call to suggestCharts:', error);\n",
              "      }\n",
              "      quickchartButtonEl.classList.remove('colab-df-spinner');\n",
              "      quickchartButtonEl.classList.add('colab-df-quickchart-complete');\n",
              "    }\n",
              "    (() => {\n",
              "      let quickchartButtonEl =\n",
              "        document.querySelector('#df-ae309371-e508-4527-88dd-1d46cdf815b8 button');\n",
              "      quickchartButtonEl.style.display =\n",
              "        google.colab.kernel.accessAllowed ? 'block' : 'none';\n",
              "    })();\n",
              "  </script>\n",
              "</div>\n",
              "\n",
              "    </div>\n",
              "  </div>\n"
            ],
            "text/plain": [
              "  patient_id                                      image1  \\\n",
              "0    CXR3556  /content/png/CXR3556_IM-1741-1001-0001.png   \n",
              "2      CXR32         /content/png/CXR32_IM-1511-1001.png   \n",
              "4     CXR260        /content/png/CXR260_IM-1090-1001.png   \n",
              "5    CXR1301       /content/png/CXR1301_IM-0198-1001.png   \n",
              "6    CXR1921       /content/png/CXR1921_IM-0598-1001.png   \n",
              "\n",
              "                                       image2  \\\n",
              "0  /content/png/CXR3556_IM-1741-1001-0002.png   \n",
              "2         /content/png/CXR32_IM-1511-4001.png   \n",
              "4        /content/png/CXR260_IM-1090-2001.png   \n",
              "5       /content/png/CXR1301_IM-0198-2001.png   \n",
              "6       /content/png/CXR1921_IM-0598-2001.png   \n",
              "\n",
              "                                            findings  \\\n",
              "0  the lungs are clear. there is no pleural effus...   \n",
              "2  the heart is normal in size. the mediastinum i...   \n",
              "4  lungs are clear bilaterally. cardiac and media...   \n",
              "5  heart size within normal limits, stable medias...   \n",
              "6  redemonstration of moderately-inflated lungs, ...   \n",
              "\n",
              "                                      image_features  \\\n",
              "0  [[0.00041582860285416245, 0.001570420921780169...   \n",
              "2  [[0.0005354544264264405, 0.0019668142776936293...   \n",
              "4  [[0.0002745636156760156, 0.0018877924885600805...   \n",
              "5  [[0.0005874697235412896, 0.0018448150949552655...   \n",
              "6  [[0.00029747304506599903, 0.0014215346891433, ...   \n",
              "\n",
              "                                      findings_total  \\\n",
              "0  <start> the lungs are clear. there is no pleur...   \n",
              "2  <start> the heart is normal in size. the media...   \n",
              "4  <start> lungs are clear bilaterally. cardiac a...   \n",
              "5  <start> heart size within normal limits, stabl...   \n",
              "6  <start> redemonstration of moderately-inflated...   \n",
              "\n",
              "                                              dec_ip  \\\n",
              "0  <start> the lungs are clear. there is no pleur...   \n",
              "2  <start> the heart is normal in size. the media...   \n",
              "4  <start> lungs are clear bilaterally. cardiac a...   \n",
              "5  <start> heart size within normal limits, stabl...   \n",
              "6  <start> redemonstration of moderately-inflated...   \n",
              "\n",
              "                                              dec_op  \n",
              "0  the lungs are clear. there is no pleural effus...  \n",
              "2  the heart is normal in size. the mediastinum i...  \n",
              "4  lungs are clear bilaterally. cardiac and media...  \n",
              "5  heart size within normal limits, stable medias...  \n",
              "6  redemonstration of moderately-inflated lungs, ...  "
            ]
          },
          "execution_count": 7,
          "metadata": {},
          "output_type": "execute_result"
        }
      ],
      "source": [
        "data.head()"
      ]
    },
    {
      "cell_type": "code",
      "execution_count": null,
      "metadata": {
        "id": "6cXF4ufyCAnD"
      },
      "outputs": [],
      "source": [
        "X_train, X_test = train_test_split(data.values , test_size = 0.2 )"
      ]
    },
    {
      "cell_type": "code",
      "execution_count": null,
      "metadata": {
        "colab": {
          "base_uri": "https://localhost:8080/"
        },
        "id": "HJEJnN0SCDCp",
        "outputId": "4f74c5fd-651d-415b-9502-9696b8f638bb"
      },
      "outputs": [
        {
          "data": {
            "text/plain": [
              "(2669, 8)"
            ]
          },
          "execution_count": 9,
          "metadata": {},
          "output_type": "execute_result"
        }
      ],
      "source": [
        "X_train.shape"
      ]
    },
    {
      "cell_type": "code",
      "execution_count": null,
      "metadata": {
        "colab": {
          "base_uri": "https://localhost:8080/"
        },
        "id": "9z8BiRlqwHjC",
        "outputId": "38ba1af5-1ba7-4302-f1c0-ccae59c4a682"
      },
      "outputs": [
        {
          "data": {
            "text/plain": [
              "(668, 8)"
            ]
          },
          "execution_count": 10,
          "metadata": {},
          "output_type": "execute_result"
        }
      ],
      "source": [
        "X_test.shape"
      ]
    },
    {
      "cell_type": "code",
      "execution_count": null,
      "metadata": {
        "id": "q_w_wdr3CF5G"
      },
      "outputs": [],
      "source": [
        "X_train = X_train[:-19, :]\n",
        "X_test = X_test[:-18, :]"
      ]
    },
    {
      "cell_type": "code",
      "execution_count": null,
      "metadata": {
        "colab": {
          "base_uri": "https://localhost:8080/",
          "height": 52
        },
        "id": "vryjGtLxsavm",
        "outputId": "2e0a1a24-5b32-4276-c0bd-42eda2440e81"
      },
      "outputs": [
        {
          "data": {
            "application/vnd.google.colaboratory.intrinsic+json": {
              "type": "string"
            },
            "text/plain": [
              "'<start> cardiac and mediastinal contours are within normal limits. the lungs are clear. bony structures are intact.'"
            ]
          },
          "execution_count": 12,
          "metadata": {},
          "output_type": "execute_result"
        }
      ],
      "source": [
        "X_train[:,6][15]"
      ]
    },
    {
      "cell_type": "code",
      "execution_count": null,
      "metadata": {
        "colab": {
          "base_uri": "https://localhost:8080/"
        },
        "id": "ccinIOCkCJKW",
        "outputId": "d3e6a391-7627-482b-d9ca-48e3dd13c477"
      },
      "outputs": [
        {
          "data": {
            "text/plain": [
              "(2650, 8)"
            ]
          },
          "execution_count": 13,
          "metadata": {},
          "output_type": "execute_result"
        }
      ],
      "source": [
        "X_train.shape"
      ]
    },
    {
      "cell_type": "code",
      "execution_count": null,
      "metadata": {
        "colab": {
          "base_uri": "https://localhost:8080/"
        },
        "id": "ldFqkZF0CQXQ",
        "outputId": "f6e7763e-470b-4e55-a417-e8e8bc54e9f3"
      },
      "outputs": [
        {
          "data": {
            "text/plain": [
              "Index(['patient_id', 'image1', 'image2', 'findings', 'image_features',\n",
              "       'findings_total', 'dec_ip', 'dec_op'],\n",
              "      dtype='object')"
            ]
          },
          "execution_count": 14,
          "metadata": {},
          "output_type": "execute_result"
        }
      ],
      "source": [
        "data.columns"
      ]
    },
    {
      "cell_type": "code",
      "execution_count": null,
      "metadata": {
        "id": "tfh--R8ACTZA"
      },
      "outputs": [],
      "source": [
        "t1 = Tokenizer( filters='!\"#$%&()*+,-/:;=?@[\\\\]^_`{|}~\\t\\n',oov_token='OOV')\n",
        "t1.fit_on_texts(X_train[:,5])\n",
        "vocab_size_imp = len(t1.word_index) + 1\n",
        "\n",
        "dec_inp = t1.texts_to_sequences(X_train[:,6])\n",
        "\n",
        "dec_inp = pad_sequences(dec_inp, maxlen=76, padding='post')\n",
        "\n",
        "dec_inp_cv = t1.texts_to_sequences(X_test[:,6])\n",
        "\n",
        "dec_inp_cv = pad_sequences(dec_inp_cv, maxlen=76, padding='post')\n",
        "\n",
        "dec_op = t1.texts_to_sequences(X_train[:,7])\n",
        "\n",
        "dec_op = pad_sequences(dec_op, maxlen=76, padding='post')\n",
        "\n",
        "dec_op_cv = t1.texts_to_sequences(X_test[:,7])\n",
        "\n",
        "dec_op_cv = pad_sequences(dec_op_cv, maxlen=76, padding='post')"
      ]
    },
    {
      "cell_type": "code",
      "execution_count": null,
      "metadata": {
        "colab": {
          "base_uri": "https://localhost:8080/"
        },
        "id": "rTFasyqPCUuE",
        "outputId": "c2bf55d3-3a38-485a-a23b-c6e513f141e4"
      },
      "outputs": [
        {
          "name": "stdout",
          "output_type": "stream",
          "text": [
            "Mounted at /content/drive\n"
          ]
        }
      ],
      "source": [
        "from google.colab import drive\n",
        "drive.mount('/content/drive')"
      ]
    },
    {
      "cell_type": "code",
      "execution_count": null,
      "metadata": {
        "id": "LYcde0sJCgZO"
      },
      "outputs": [],
      "source": [
        "with open('t1.pickle', 'wb') as handle:\n",
        "    pickle.dump(t1, handle, protocol=pickle.HIGHEST_PROTOCOL)"
      ]
    },
    {
      "cell_type": "code",
      "execution_count": null,
      "metadata": {
        "id": "HVJ6p7NvCiGe"
      },
      "outputs": [],
      "source": [
        "!cp -r /content/t1.pickle /content/drive/MyDrive"
      ]
    },
    {
      "cell_type": "code",
      "execution_count": null,
      "metadata": {
        "colab": {
          "base_uri": "https://localhost:8080/"
        },
        "id": "A_JytvChCmBf",
        "outputId": "1aafb3b0-780c-42ab-eb13-03672607b961"
      },
      "outputs": [
        {
          "data": {
            "text/plain": [
              "1840"
            ]
          },
          "execution_count": 19,
          "metadata": {},
          "output_type": "execute_result"
        }
      ],
      "source": [
        "vocab_size_imp"
      ]
    },
    {
      "cell_type": "code",
      "execution_count": null,
      "metadata": {
        "id": "CQ13ZPLVCoj3"
      },
      "outputs": [],
      "source": [
        "imp1 = {}\n",
        "imp2 = {}\n",
        "for key,value in t1.word_index.items():\n",
        "  imp1[value] = key\n",
        "  imp2[key] = value"
      ]
    },
    {
      "cell_type": "code",
      "execution_count": null,
      "metadata": {
        "id": "-HICSkWyCpkI"
      },
      "outputs": [],
      "source": [
        "class Encoder(tf.keras.Model):\n",
        "    '''\n",
        "    Encoder -- Giris degeri alir ve cikis degeri uretir\n",
        "    '''\n",
        "\n",
        "    def __init__(self,units):\n",
        "        super().__init__()\n",
        "        self.units = units\n",
        "        self.dense = Dense(self.units,name = 'Enc_dense')\n",
        "\n",
        "\n",
        "    def call(self,img):\n",
        "      '''\n",
        "        Bu fonksiyon, Encoderin giris dizisini ve baslangic durumunu alir, Embedding layera giris dizisinin girisini iletir ve embedding layer ciktisini encoder_ltsm'ye iletir.\n",
        "        Her bir cikti hidden ve cell statetir.\n",
        "      '''\n",
        "      #enc_out = self.maxpool(tf.expand_dims(img,axis = 2))\n",
        "      enc_out = self.dense(img)\n",
        "      return enc_out\n",
        "\n",
        "\n",
        "    def initialize_states(self,batch_size):\n",
        "      '''\n",
        "      Bir batch size verildiğinde baslangictaki initial state ve cell statei verir.\n",
        "      '''\n",
        "      self.batch_size  = batch_size\n",
        "\n",
        "      self.enc_h =tf.zeros((self.batch_size, self.units))\n",
        "\n",
        "      return self.enc_h"
      ]
    },
    {
      "cell_type": "code",
      "execution_count": null,
      "metadata": {
        "id": "YtJ_oqhqCsZi"
      },
      "outputs": [],
      "source": [
        "class Attention(tf.keras.layers.Layer):\n",
        "  def __init__(self,att_units):\n",
        "    # Please go through the reference notebook and research paper to complete the scoring functions\n",
        "    super().__init__()\n",
        "\n",
        "    self.att_units = att_units\n",
        "\n",
        "    self.w1 =  tf.keras.layers.Dense( self.att_units , name = 'w1')\n",
        "    self.w2 =  tf.keras.layers.Dense( self.att_units,name = 'w2')\n",
        "    self.v =  tf.keras.layers.Dense(1,name = 'v')\n",
        "\n",
        "  def call(self,decoder_hidden_state,encoder_output):\n",
        "    '''\n",
        "    Attention mekanizmasi iki girdi alir, decoder'in hidden state'i ve butun encoder ciktilari.\n",
        "    Scoring fonksiyonuna gore decoder hidden state ve encoder ciktilari arasindaki benzerlige gore skoru bulacagiz.\n",
        "    Context vectoru elde etmek icin bu score fonksiyonu ile encoder ciktilarini carpacagiz.\n",
        "    Fonksiyon bize context vectoru ve attention agirliklarini(softmax) verecek.\n",
        "    '''\n",
        "    self.decoder_hidden_state = decoder_hidden_state\n",
        "    self.encoder_output = encoder_output\n",
        "\n",
        "\n",
        "    self.decoder_hidden_state = tf.expand_dims(self.decoder_hidden_state,axis = 1)\n",
        "    score = self.v(tf.nn.tanh(\n",
        "              self.w1(self.decoder_hidden_state) + self.w2(self.encoder_output)))\n",
        "    attention_weights = tf.nn.softmax(score, axis=1)\n",
        "    context_vector = attention_weights * self.encoder_output\n",
        "    context_vector = tf.reduce_sum(context_vector, axis=1)\n",
        "    return context_vector,attention_weights"
      ]
    },
    {
      "cell_type": "code",
      "execution_count": null,
      "metadata": {
        "id": "4bBgBvg2Cv-N"
      },
      "outputs": [],
      "source": [
        "class OneStepDecoder(tf.keras.Model):\n",
        "  def __init__(self,tar_vocab_size, embedding_dim, input_length, dec_units  ,att_units):\n",
        "\n",
        "      # Initialize decoder embedding layer, LSTM and any other objects needed\n",
        "      super().__init__()\n",
        "      self.tar_vocab_size = tar_vocab_size\n",
        "      self.embedding_dim = embedding_dim\n",
        "      self.input_length = input_length\n",
        "      self.dec_units = dec_units\n",
        "      self.att_units = att_units\n",
        "      self.dec_emb = Embedding(tar_vocab_size,embedding_dim,trainable = True , name = 'dec_embb')\n",
        "      self.dec_lstm = GRU(self.dec_units, return_state=True, return_sequences=True, name=\"Decoder_LSTM\")\n",
        "      self.dense   = Dense(self.tar_vocab_size, name = 'one_dec')\n",
        "      self.attention=Attention( self.att_units)\n",
        "      self.d1 = Dropout(0.3,name = 'd1')\n",
        "      self.d2 = Dropout(0.3,name = 'd2')\n",
        "      self.d3 = Dropout(0.3,name = 'd3')\n",
        "\n",
        "  @tf.function\n",
        "  def call(self,input_to_decoder, encoder_output, state_h):\n",
        "    '''\n",
        "        Adim adim one step decoder mekanizması:\n",
        "      A. Embedding layer'a input_to_decoder aktarilir ve sonra cikti alinir.\n",
        "      B. encoder_output ve decoder'in hidden state'i kullanilarak context vector hesaplanir.\n",
        "      C. Context vectoru A adimiyla birlestirilir.\n",
        "      D. C adiminin ciktisi LSTM/GRU'ya iletilir ve decoder'in ciktisiyla hidden-cell stateleri alinir.\n",
        "      E. Decoder ciktisi dense layer'a aktarilir ve ciktida sonuc saklanir.\n",
        "      F. D adimindaki durumlari, E adimindaki ciktiyi ve B adimindaki attention agirliklarini dondurur\n",
        "    '''\n",
        "    self.input_to_decoder = input_to_decoder\n",
        "    self.encoder_output = encoder_output\n",
        "    self.state_h = state_h\n",
        "\n",
        "    #A\n",
        "    target_embedd           = self.dec_emb (self.input_to_decoder)     #(batch_size,1,embedingdim)\n",
        "    #B\n",
        "    target_embedd = self.d1(target_embedd)\n",
        "\n",
        "    context_vector,attention_weights=self.attention(self.state_h,self.encoder_output) #context vector shape = (batch_size,att_units)\n",
        "    #C\n",
        "    concated = tf.concat([  tf.expand_dims(context_vector, 1),target_embedd], -1)\n",
        "    concated = self.d2(concated)\n",
        "\n",
        "    #D\n",
        "    lstm_output, hs      = self.dec_lstm(concated, initial_state=self.state_h)\n",
        "\n",
        "    lstm_output = tf.reshape(lstm_output, (-1, lstm_output.shape[2]))\n",
        "    lstm_output = self.d3(lstm_output)\n",
        "    #E\n",
        "    op = self.dense(lstm_output)\n",
        "    #op = tf.squeeze(op,[1])\n",
        "    return op,hs,attention_weights,context_vector"
      ]
    },
    {
      "cell_type": "code",
      "execution_count": null,
      "metadata": {
        "id": "ENJo2ySnC2FK"
      },
      "outputs": [],
      "source": [
        "class Decoder(tf.keras.Model):\n",
        "    def __init__(self,out_vocab_size, embedding_dim, input_length, dec_units ,att_units):\n",
        "      #Gerekli degerleri ve onestepdecoder'dan objeleri olusturur\n",
        "      super().__init__()\n",
        "      self.out_vocab_size = out_vocab_size\n",
        "      self.embedding_dim = embedding_dim\n",
        "      self.input_length = input_length\n",
        "      self.dec_units = dec_units\n",
        "      self.att_units = att_units\n",
        "      self.onestep = OneStepDecoder(self.out_vocab_size,self.embedding_dim ,self.input_length,self.dec_units,self.att_units)\n",
        "\n",
        "    @tf.function\n",
        "    def call(self, input_to_decoder,encoder_output,decoder_hidden_state):\n",
        "\n",
        "        '''\n",
        "        Bos tensor dizisi olusturur, bu her adimdaki ciktilari saklar.\n",
        "        Decoder girisinin uzunlugu kadar iterate eder.\n",
        "          decoder_input'taki her token icin onestepdecoder'i cagirir.\n",
        "          tensor dizisinde sonuclari saklar.\n",
        "        Tensor dizisini dondurur.\n",
        "        '''\n",
        "        #Initialize an empty Tensor array, that will store the outputs at each and every time step\n",
        "        #Create a tensor array as shown in the reference notebook\n",
        "\n",
        "        #Iterate till the length of the decoder input\n",
        "            # Call onestepdecoder for each token in decoder_input\n",
        "            # Store the output in tensorarray\n",
        "        # Return the tensor array\n",
        "\n",
        "        all_outputs = tf.TensorArray(tf.float32,size =input_to_decoder.shape[1],name = 'output_arrays' )\n",
        "        self.input_to_decoder = input_to_decoder\n",
        "        self.encoder_output = encoder_output\n",
        "        self.decoder_hidden_state = decoder_hidden_state\n",
        "\n",
        "        for timestep in tf.range(input_to_decoder.shape[1]):\n",
        "          op,hs,attention_weights,context_vector = self.onestep(self.input_to_decoder[:,timestep:timestep+1], self.encoder_output, self.decoder_hidden_state)\n",
        "          self.decoder_hidden_state = hs\n",
        "          all_outputs = all_outputs.write(timestep,op)\n",
        "        all_outputs = tf.transpose(all_outputs.stack(),[1,0,2])\n",
        "        return all_outputs"
      ]
    },
    {
      "cell_type": "code",
      "execution_count": null,
      "metadata": {
        "id": "EJnxSJcZC5YX"
      },
      "outputs": [],
      "source": [
        "class encoder_decoder(tf.keras.Model):\n",
        "  def __init__(self,out_vocab_size , embedding_size_d, input_length_d,lstm_size_d,att_units,batch_size,units):\n",
        "        # Encoder ve decoder nesnesi olusturur ve softmax aktivasyon fonksiyonuyla bir dense layer baslatir.\n",
        "        super().__init__()\n",
        "\n",
        "        self.units = units\n",
        "        self.out_vocab_size = out_vocab_size\n",
        "        self.embedding_size_d = embedding_size_d\n",
        "        self.lstm_size_d = lstm_size_d\n",
        "        self.input_length_d = input_length_d\n",
        "        self.batch_size = batch_size\n",
        "        self.att_units = att_units\n",
        "\n",
        "        self.encoder = Encoder(self.units)\n",
        "\n",
        "        self.decoder = Decoder(out_vocab_size , embedding_size_d, input_length_d,lstm_size_d,att_units )\n",
        "        self.dense   = Dense(self.out_vocab_size,name = 'enc_dec_dense')\n",
        "\n",
        "\n",
        "\n",
        "  def call(self,data):\n",
        "    '''\n",
        "    Encoder state'lerini baslatir ve embedding layer'a encoder dizisini aktarir.\n",
        "    Decoder baslangic degerleri encoder'in bitis degerleridir ve buna göre decoder baslatilir\n",
        "    Decoder ciktisini dondurur\n",
        "    '''\n",
        "    # Pass the decoder sequence,encoder_output,decoder states to Decoder\n",
        "    # return the decoder output\n",
        "    self.inputs,self.outputs = data[0], data[1]\n",
        "    print(\"=\"*20, \"ENCODER\", \"=\"*20)\n",
        "    self.encoder_h= self.encoder.initialize_states(self.batch_size)\n",
        "    self.encoder_output = self.encoder(self.inputs)\n",
        "    print(\"-\"*27)\n",
        "    print(\"ENCODER ==> OUTPUT SHAPE\",self.encoder_output.shape)\n",
        "    print(\"ENCODER ==> HIDDEN STATE SHAPE\",self.encoder_h.shape)\n",
        "    print(\"=\"*20, \"DECODER\", \"=\"*20)\n",
        "    output= self.decoder(self.outputs,self.encoder_output,self.encoder_h)\n",
        "    print(\"-\"*27)\n",
        "    print(\"FINAL OUTPUT SHAPE\",output.shape)\n",
        "    print(\"=\"*50)\n",
        "    return output"
      ]
    },
    {
      "cell_type": "code",
      "execution_count": null,
      "metadata": {
        "id": "uFa3ZW6oC73t"
      },
      "outputs": [],
      "source": [
        "optimizer = tf.keras.optimizers.Adam() #Adam optimizasyon algoritması, gradient descent'in bir varyantıdır ve öğrenme oranını dinamik olarak ayarlayarak daha hızlı ve verimli bir öğrenme süreci sağlar.\n",
        "loss_object = tf.keras.losses.SparseCategoricalCrossentropy( #SparseCategoricalCrossentropy, sınıflandırma problemlerinde yaygın olarak kullanılan bir kayıp fonksiyonudur.\n",
        "    from_logits=True, reduction='none') #from_logits=True parametresi, modelin çıktılarının softmax fonksiyonundan geçmemiş ham skorlar olduğunu belirtir.\n",
        "#reduction='none' parametresi ise kayıp değerlerinin her bir örnek için ayrı ayrı hesaplanacağını ve daha sonra toplu olarak işleneceğini belirtir.\n",
        "\n",
        "def loss_function(real, pred): #gerçek etiketler ve modelin tahmin ettiği etiketler arasındaki kaybı hesaplar.\n",
        "  mask = tf.math.logical_not(tf.math.equal(real, 0)) #gerçek etiketlerdeki padding olmayan değerleri belirlemek için bir maske oluşturur. Bu maske, sıfır olan yerlerde False, diğer yerlerde True olur.\n",
        "  loss_ = loss_object(real, pred)\n",
        "\n",
        "  mask = tf.cast(mask, dtype=loss_.dtype)\n",
        "  loss_ *= mask #yalnızca sıfır olmayan etiketlerin kaybını hesaplamak için maskeyi kullanır yani padding değerlerinin kayıp hesaplamasına dahil edilmemesini sağlar.\n",
        "\n",
        "  return tf.reduce_mean(loss_) #tüm örnekler üzerindeki ortalama kaybı döner."
      ]
    },
    {
      "cell_type": "code",
      "execution_count": null,
      "metadata": {
        "colab": {
          "base_uri": "https://localhost:8080/"
        },
        "id": "dLH8Y8_pC-sU",
        "outputId": "8eef744e-9d6d-4e33-972c-6cae36b3c878"
      },
      "outputs": [
        {
          "name": "stdout",
          "output_type": "stream",
          "text": [
            "mkdir: cannot create directory ‘checkpoint’: File exists\n"
          ]
        }
      ],
      "source": [
        "!mkdir checkpoint"
      ]
    },
    {
      "cell_type": "code",
      "execution_count": null,
      "metadata": {
        "id": "KTHPzpuMDF3C"
      },
      "outputs": [],
      "source": [
        "checkpoint_filepath = cwd + '/' + 'checkpoint' + '/'"
      ]
    },
    {
      "cell_type": "code",
      "execution_count": null,
      "metadata": {
        "colab": {
          "base_uri": "https://localhost:8080/",
          "height": 35
        },
        "id": "FqioALxoDHer",
        "outputId": "ddecf31e-3684-4133-f331-c7d80044a1ed"
      },
      "outputs": [
        {
          "data": {
            "application/vnd.google.colaboratory.intrinsic+json": {
              "type": "string"
            },
            "text/plain": [
              "'/content/checkpoint/'"
            ]
          },
          "execution_count": 28,
          "metadata": {},
          "output_type": "execute_result"
        }
      ],
      "source": [
        "checkpoint_filepath"
      ]
    },
    {
      "cell_type": "code",
      "execution_count": null,
      "metadata": {
        "id": "S41xvr5QDJam"
      },
      "outputs": [],
      "source": [
        "model_checkpoint_callback = tf.keras.callbacks.ModelCheckpoint(\n",
        "    filepath=checkpoint_filepath,\n",
        "    save_weights_only=False,  #False olarak ayarlandığında, modelin hem ağırlıkları hem de mimarisi kaydedilir.\n",
        "    monitor='val_loss', #Modelin doğrulama kaybı (val_loss) izlenir. Eğitim sürecinde bu metrik değerlere göre en iyi model belirlenir.\n",
        "    verbose = 1, #Eğitim sırasında checkpoint kaydedildiğinde bilgi mesajlarının konsolda gösterilmesini sağlar. 0 olursa sessiz modda çalışır, 1 olursa mesajlar gösterilir.\n",
        "    mode='min', #İzlenen metriğin minimum değerine göre modelin en iyi olduğunu belirler. Örneğin, kaybın (loss) mümkün olduğunca düşük olması istenir. Eğer mode='max' olsaydı, izlenen metriğin maksimum değerine göre en iyi model belirlenirdi.\n",
        "    save_best_only=True) #True olarak ayarlandığında, sadece izlenen metrikte (bu durumda val_loss) en iyi değeri elde eden model kaydedilir."
      ]
    },
    {
      "cell_type": "code",
      "execution_count": null,
      "metadata": {
        "id": "VKjN46aHDL5l"
      },
      "outputs": [],
      "source": [
        "tf.keras.backend.clear_session()"
      ]
    },
    {
      "cell_type": "code",
      "execution_count": null,
      "metadata": {
        "id": "E3-kjt9HDN4q"
      },
      "outputs": [],
      "source": [
        "reduce_lr = tf.keras.callbacks.ReduceLROnPlateau(monitor='val_loss', factor=0.8,mode = 'min',verbose = 1,\n",
        "                              patience=2, min_lr=0.0001)\n",
        "#ReduceLROnPlateau, eğitim sürecinde belirli bir metrik iyileşmediğinde öğrenme oranını azaltarak modelin daha iyi optimize edilmesine yardımcı olur.\n",
        "#İzlenecek metrik doğrulama kaybıdır (val_loss) ve mode='min' ile minimum değeri iyileşmediğinde azaltılır\n",
        "#factor=0.8 ile öğrenme oranını %20 azaltır\n",
        "#patience=2 ile val_loss iki dönem boyunca iyileşmezse öğrenme oranı azaltılır.\n",
        "#Öğrenme oranı min_lr=0.0001 değerinden daha aşağıya düşemez."
      ]
    },
    {
      "cell_type": "code",
      "execution_count": null,
      "metadata": {
        "id": "djJLO2gdDQsw"
      },
      "outputs": [],
      "source": [
        "model_1 = encoder_decoder(vocab_size_imp,300,76,256,64,50,256)\n",
        "optimizer = tf.keras.optimizers.Adam()\n",
        "model_1.compile(optimizer=optimizer,loss=loss_function)"
      ]
    },
    {
      "cell_type": "code",
      "execution_count": null,
      "metadata": {
        "id": "DfiCLtP8DTab"
      },
      "outputs": [],
      "source": [
        "train_inp = np.vstack(X_train[:,4]).astype(float)\n",
        "test_inp = np.vstack(X_test[:,4]).astype(float)"
      ]
    },
    {
      "cell_type": "code",
      "execution_count": null,
      "metadata": {
        "colab": {
          "base_uri": "https://localhost:8080/"
        },
        "id": "t7TVA22HDZOt",
        "outputId": "771041b8-c330-4612-d822-2c9c2cbca8a4"
      },
      "outputs": [
        {
          "name": "stdout",
          "output_type": "stream",
          "text": [
            "Epoch 1/40\n",
            "==================== ENCODER ====================\n",
            "---------------------------\n",
            "ENCODER ==> OUTPUT SHAPE (50, 256)\n",
            "ENCODER ==> HIDDEN STATE SHAPE (50, 256)\n",
            "==================== DECODER ====================\n",
            "---------------------------\n",
            "FINAL OUTPUT SHAPE (50, 76, 1852)\n",
            "==================================================\n",
            "==================== ENCODER ====================\n",
            "---------------------------\n",
            "ENCODER ==> OUTPUT SHAPE (50, 256)\n",
            "ENCODER ==> HIDDEN STATE SHAPE (50, 256)\n",
            "==================== DECODER ====================\n",
            "---------------------------\n",
            "FINAL OUTPUT SHAPE (50, 76, 1852)\n",
            "==================================================\n",
            "53/53 [==============================] - ETA: 0s - loss: 2.2787==================== ENCODER ====================\n",
            "---------------------------\n",
            "ENCODER ==> OUTPUT SHAPE (50, 256)\n",
            "ENCODER ==> HIDDEN STATE SHAPE (50, 256)\n",
            "==================== DECODER ====================\n",
            "---------------------------\n",
            "FINAL OUTPUT SHAPE (50, 76, 1852)\n",
            "==================================================\n",
            "\n",
            "Epoch 1: val_loss improved from inf to 2.11003, saving model to /content/checkpoint/\n",
            "==================== ENCODER ====================\n",
            "---------------------------\n",
            "ENCODER ==> OUTPUT SHAPE (None, 256)\n",
            "ENCODER ==> HIDDEN STATE SHAPE (50, 256)\n",
            "==================== DECODER ====================\n",
            "---------------------------\n",
            "FINAL OUTPUT SHAPE (50, 76, 1852)\n",
            "==================================================\n"
          ]
        },
        {
          "name": "stderr",
          "output_type": "stream",
          "text": [
            "WARNING:tensorflow:Skipping full serialization of Keras layer <keras.src.layers.core.dense.Dense object at 0x7954506db190>, because it is not built.\n"
          ]
        },
        {
          "name": "stdout",
          "output_type": "stream",
          "text": [
            "==================== ENCODER ====================\n",
            "---------------------------\n",
            "ENCODER ==> OUTPUT SHAPE (None, 256)\n",
            "ENCODER ==> HIDDEN STATE SHAPE (50, 256)\n",
            "==================== DECODER ====================\n",
            "---------------------------\n",
            "FINAL OUTPUT SHAPE (None, 76, 1852)\n",
            "==================================================\n",
            "==================== ENCODER ====================\n",
            "---------------------------\n",
            "ENCODER ==> OUTPUT SHAPE (None, 256)\n",
            "ENCODER ==> HIDDEN STATE SHAPE (50, 256)\n",
            "==================== DECODER ====================\n",
            "---------------------------\n",
            "FINAL OUTPUT SHAPE (None, 76, 1852)\n",
            "==================================================\n"
          ]
        },
        {
          "name": "stderr",
          "output_type": "stream",
          "text": [
            "WARNING:absl:<__main__.Attention object at 0x7954506d99f0> has the same name 'Attention' as a built-in Keras object. Consider renaming <class '__main__.Attention'> to avoid naming conflicts when loading with `tf.keras.models.load_model`. If renaming is not possible, pass the object in the `custom_objects` parameter of the load function.\n"
          ]
        },
        {
          "name": "stdout",
          "output_type": "stream",
          "text": [
            "\b\b\b\b\b\b\b\b\b\b\b\b\b\b\b\b\b\b\b\b\b\b\b\b\b\b\b\b\b\b\b\b\b\b\b\b\b\b\b\b\b\b\b\b\b\b\b\b\b\b\b\b\b\b\b\b\b\b\b\b\b\b\b\r53/53 [==============================] - 105s 2s/step - loss: 2.2787 - val_loss: 2.1100 - lr: 0.0010\n",
            "Epoch 2/40\n",
            "53/53 [==============================] - ETA: 0s - loss: 2.1520\n",
            "Epoch 2: val_loss improved from 2.11003 to 2.09238, saving model to /content/checkpoint/\n",
            "==================== ENCODER ====================\n",
            "---------------------------\n",
            "ENCODER ==> OUTPUT SHAPE (None, 256)\n",
            "ENCODER ==> HIDDEN STATE SHAPE (50, 256)\n",
            "==================== DECODER ====================\n",
            "---------------------------\n",
            "FINAL OUTPUT SHAPE (50, 76, 1852)\n",
            "==================================================\n"
          ]
        },
        {
          "name": "stderr",
          "output_type": "stream",
          "text": [
            "WARNING:tensorflow:Skipping full serialization of Keras layer <keras.src.layers.core.dense.Dense object at 0x7954506db190>, because it is not built.\n"
          ]
        },
        {
          "name": "stdout",
          "output_type": "stream",
          "text": [
            "==================== ENCODER ====================\n",
            "---------------------------\n",
            "ENCODER ==> OUTPUT SHAPE (None, 256)\n",
            "ENCODER ==> HIDDEN STATE SHAPE (50, 256)\n",
            "==================== DECODER ====================\n",
            "---------------------------\n",
            "FINAL OUTPUT SHAPE (None, 76, 1852)\n",
            "==================================================\n",
            "==================== ENCODER ====================\n",
            "---------------------------\n",
            "ENCODER ==> OUTPUT SHAPE (None, 256)\n",
            "ENCODER ==> HIDDEN STATE SHAPE (50, 256)\n",
            "==================== DECODER ====================\n",
            "---------------------------\n",
            "FINAL OUTPUT SHAPE (None, 76, 1852)\n",
            "==================================================\n"
          ]
        },
        {
          "name": "stderr",
          "output_type": "stream",
          "text": [
            "WARNING:absl:<__main__.Attention object at 0x7954506d99f0> has the same name 'Attention' as a built-in Keras object. Consider renaming <class '__main__.Attention'> to avoid naming conflicts when loading with `tf.keras.models.load_model`. If renaming is not possible, pass the object in the `custom_objects` parameter of the load function.\n"
          ]
        },
        {
          "name": "stdout",
          "output_type": "stream",
          "text": [
            "\b\b\b\b\b\b\b\b\b\b\b\b\b\b\b\b\b\b\b\b\b\b\b\b\b\b\b\b\b\b\b\b\b\b\b\b\b\b\b\b\b\b\b\b\b\b\b\b\b\b\b\b\b\b\b\b\b\b\b\b\b\b\b\r53/53 [==============================] - 97s 2s/step - loss: 2.1520 - val_loss: 2.0924 - lr: 0.0010\n",
            "Epoch 3/40\n",
            "53/53 [==============================] - ETA: 0s - loss: 2.1171\n",
            "Epoch 3: val_loss improved from 2.09238 to 2.03191, saving model to /content/checkpoint/\n",
            "==================== ENCODER ====================\n",
            "---------------------------\n",
            "ENCODER ==> OUTPUT SHAPE (None, 256)\n",
            "ENCODER ==> HIDDEN STATE SHAPE (50, 256)\n",
            "==================== DECODER ====================\n",
            "---------------------------\n",
            "FINAL OUTPUT SHAPE (50, 76, 1852)\n",
            "==================================================\n"
          ]
        },
        {
          "name": "stderr",
          "output_type": "stream",
          "text": [
            "WARNING:tensorflow:Skipping full serialization of Keras layer <keras.src.layers.core.dense.Dense object at 0x7954506db190>, because it is not built.\n"
          ]
        },
        {
          "name": "stdout",
          "output_type": "stream",
          "text": [
            "==================== ENCODER ====================\n",
            "---------------------------\n",
            "ENCODER ==> OUTPUT SHAPE (None, 256)\n",
            "ENCODER ==> HIDDEN STATE SHAPE (50, 256)\n",
            "==================== DECODER ====================\n",
            "---------------------------\n",
            "FINAL OUTPUT SHAPE (None, 76, 1852)\n",
            "==================================================\n",
            "==================== ENCODER ====================\n",
            "---------------------------\n",
            "ENCODER ==> OUTPUT SHAPE (None, 256)\n",
            "ENCODER ==> HIDDEN STATE SHAPE (50, 256)\n",
            "==================== DECODER ====================\n",
            "---------------------------\n",
            "FINAL OUTPUT SHAPE (None, 76, 1852)\n",
            "==================================================\n"
          ]
        },
        {
          "name": "stderr",
          "output_type": "stream",
          "text": [
            "WARNING:absl:<__main__.Attention object at 0x7954506d99f0> has the same name 'Attention' as a built-in Keras object. Consider renaming <class '__main__.Attention'> to avoid naming conflicts when loading with `tf.keras.models.load_model`. If renaming is not possible, pass the object in the `custom_objects` parameter of the load function.\n"
          ]
        },
        {
          "name": "stdout",
          "output_type": "stream",
          "text": [
            "\b\b\b\b\b\b\b\b\b\b\b\b\b\b\b\b\b\b\b\b\b\b\b\b\b\b\b\b\b\b\b\b\b\b\b\b\b\b\b\b\b\b\b\b\b\b\b\b\b\b\b\b\b\b\b\b\b\b\b\b\b\b\b\r53/53 [==============================] - 93s 2s/step - loss: 2.1171 - val_loss: 2.0319 - lr: 0.0010\n",
            "Epoch 4/40\n",
            "53/53 [==============================] - ETA: 0s - loss: 2.0395\n",
            "Epoch 4: val_loss improved from 2.03191 to 1.94240, saving model to /content/checkpoint/\n",
            "==================== ENCODER ====================\n",
            "---------------------------\n",
            "ENCODER ==> OUTPUT SHAPE (None, 256)\n",
            "ENCODER ==> HIDDEN STATE SHAPE (50, 256)\n",
            "==================== DECODER ====================\n",
            "---------------------------\n",
            "FINAL OUTPUT SHAPE (50, 76, 1852)\n",
            "==================================================\n"
          ]
        },
        {
          "name": "stderr",
          "output_type": "stream",
          "text": [
            "WARNING:tensorflow:Skipping full serialization of Keras layer <keras.src.layers.core.dense.Dense object at 0x7954506db190>, because it is not built.\n"
          ]
        },
        {
          "name": "stdout",
          "output_type": "stream",
          "text": [
            "==================== ENCODER ====================\n",
            "---------------------------\n",
            "ENCODER ==> OUTPUT SHAPE (None, 256)\n",
            "ENCODER ==> HIDDEN STATE SHAPE (50, 256)\n",
            "==================== DECODER ====================\n",
            "---------------------------\n",
            "FINAL OUTPUT SHAPE (None, 76, 1852)\n",
            "==================================================\n",
            "==================== ENCODER ====================\n",
            "---------------------------\n",
            "ENCODER ==> OUTPUT SHAPE (None, 256)\n",
            "ENCODER ==> HIDDEN STATE SHAPE (50, 256)\n",
            "==================== DECODER ====================\n",
            "---------------------------\n",
            "FINAL OUTPUT SHAPE (None, 76, 1852)\n",
            "==================================================\n"
          ]
        },
        {
          "name": "stderr",
          "output_type": "stream",
          "text": [
            "WARNING:absl:<__main__.Attention object at 0x7954506d99f0> has the same name 'Attention' as a built-in Keras object. Consider renaming <class '__main__.Attention'> to avoid naming conflicts when loading with `tf.keras.models.load_model`. If renaming is not possible, pass the object in the `custom_objects` parameter of the load function.\n"
          ]
        },
        {
          "name": "stdout",
          "output_type": "stream",
          "text": [
            "\b\b\b\b\b\b\b\b\b\b\b\b\b\b\b\b\b\b\b\b\b\b\b\b\b\b\b\b\b\b\b\b\b\b\b\b\b\b\b\b\b\b\b\b\b\b\b\b\b\b\b\b\b\b\b\b\b\b\b\b\b\b\b\r53/53 [==============================] - 95s 2s/step - loss: 2.0395 - val_loss: 1.9424 - lr: 0.0010\n",
            "Epoch 5/40\n",
            "53/53 [==============================] - ETA: 0s - loss: 1.8883\n",
            "Epoch 5: val_loss improved from 1.94240 to 1.68541, saving model to /content/checkpoint/\n",
            "==================== ENCODER ====================\n",
            "---------------------------\n",
            "ENCODER ==> OUTPUT SHAPE (None, 256)\n",
            "ENCODER ==> HIDDEN STATE SHAPE (50, 256)\n",
            "==================== DECODER ====================\n",
            "---------------------------\n",
            "FINAL OUTPUT SHAPE (50, 76, 1852)\n",
            "==================================================\n"
          ]
        },
        {
          "name": "stderr",
          "output_type": "stream",
          "text": [
            "WARNING:tensorflow:Skipping full serialization of Keras layer <keras.src.layers.core.dense.Dense object at 0x7954506db190>, because it is not built.\n"
          ]
        },
        {
          "name": "stdout",
          "output_type": "stream",
          "text": [
            "==================== ENCODER ====================\n",
            "---------------------------\n",
            "ENCODER ==> OUTPUT SHAPE (None, 256)\n",
            "ENCODER ==> HIDDEN STATE SHAPE (50, 256)\n",
            "==================== DECODER ====================\n",
            "---------------------------\n",
            "FINAL OUTPUT SHAPE (None, 76, 1852)\n",
            "==================================================\n",
            "==================== ENCODER ====================\n",
            "---------------------------\n",
            "ENCODER ==> OUTPUT SHAPE (None, 256)\n",
            "ENCODER ==> HIDDEN STATE SHAPE (50, 256)\n",
            "==================== DECODER ====================\n",
            "---------------------------\n",
            "FINAL OUTPUT SHAPE (None, 76, 1852)\n",
            "==================================================\n"
          ]
        },
        {
          "name": "stderr",
          "output_type": "stream",
          "text": [
            "WARNING:absl:<__main__.Attention object at 0x7954506d99f0> has the same name 'Attention' as a built-in Keras object. Consider renaming <class '__main__.Attention'> to avoid naming conflicts when loading with `tf.keras.models.load_model`. If renaming is not possible, pass the object in the `custom_objects` parameter of the load function.\n"
          ]
        },
        {
          "name": "stdout",
          "output_type": "stream",
          "text": [
            "\b\b\b\b\b\b\b\b\b\b\b\b\b\b\b\b\b\b\b\b\b\b\b\b\b\b\b\b\b\b\b\b\b\b\b\b\b\b\b\b\b\b\b\b\b\b\b\b\b\b\b\b\b\b\b\b\b\b\b\b\b\b\b\r53/53 [==============================] - 95s 2s/step - loss: 1.8883 - val_loss: 1.6854 - lr: 0.0010\n",
            "Epoch 6/40\n",
            "53/53 [==============================] - ETA: 0s - loss: 1.5244\n",
            "Epoch 6: val_loss improved from 1.68541 to 1.32040, saving model to /content/checkpoint/\n",
            "==================== ENCODER ====================\n",
            "---------------------------\n",
            "ENCODER ==> OUTPUT SHAPE (None, 256)\n",
            "ENCODER ==> HIDDEN STATE SHAPE (50, 256)\n",
            "==================== DECODER ====================\n",
            "---------------------------\n",
            "FINAL OUTPUT SHAPE (50, 76, 1852)\n",
            "==================================================\n"
          ]
        },
        {
          "name": "stderr",
          "output_type": "stream",
          "text": [
            "WARNING:tensorflow:Skipping full serialization of Keras layer <keras.src.layers.core.dense.Dense object at 0x7954506db190>, because it is not built.\n"
          ]
        },
        {
          "name": "stdout",
          "output_type": "stream",
          "text": [
            "==================== ENCODER ====================\n",
            "---------------------------\n",
            "ENCODER ==> OUTPUT SHAPE (None, 256)\n",
            "ENCODER ==> HIDDEN STATE SHAPE (50, 256)\n",
            "==================== DECODER ====================\n",
            "---------------------------\n",
            "FINAL OUTPUT SHAPE (None, 76, 1852)\n",
            "==================================================\n",
            "==================== ENCODER ====================\n",
            "---------------------------\n",
            "ENCODER ==> OUTPUT SHAPE (None, 256)\n",
            "ENCODER ==> HIDDEN STATE SHAPE (50, 256)\n",
            "==================== DECODER ====================\n",
            "---------------------------\n",
            "FINAL OUTPUT SHAPE (None, 76, 1852)\n",
            "==================================================\n"
          ]
        },
        {
          "name": "stderr",
          "output_type": "stream",
          "text": [
            "WARNING:absl:<__main__.Attention object at 0x7954506d99f0> has the same name 'Attention' as a built-in Keras object. Consider renaming <class '__main__.Attention'> to avoid naming conflicts when loading with `tf.keras.models.load_model`. If renaming is not possible, pass the object in the `custom_objects` parameter of the load function.\n"
          ]
        },
        {
          "name": "stdout",
          "output_type": "stream",
          "text": [
            "\b\b\b\b\b\b\b\b\b\b\b\b\b\b\b\b\b\b\b\b\b\b\b\b\b\b\b\b\b\b\b\b\b\b\b\b\b\b\b\b\b\b\b\b\b\b\b\b\b\b\b\b\b\b\b\b\b\b\b\b\b\b\b\r53/53 [==============================] - 94s 2s/step - loss: 1.5244 - val_loss: 1.3204 - lr: 0.0010\n",
            "Epoch 7/40\n",
            "53/53 [==============================] - ETA: 0s - loss: 1.2469\n",
            "Epoch 7: val_loss improved from 1.32040 to 1.13706, saving model to /content/checkpoint/\n",
            "==================== ENCODER ====================\n",
            "---------------------------\n",
            "ENCODER ==> OUTPUT SHAPE (None, 256)\n",
            "ENCODER ==> HIDDEN STATE SHAPE (50, 256)\n",
            "==================== DECODER ====================\n",
            "---------------------------\n",
            "FINAL OUTPUT SHAPE (50, 76, 1852)\n",
            "==================================================\n"
          ]
        },
        {
          "name": "stderr",
          "output_type": "stream",
          "text": [
            "WARNING:tensorflow:Skipping full serialization of Keras layer <keras.src.layers.core.dense.Dense object at 0x7954506db190>, because it is not built.\n"
          ]
        },
        {
          "name": "stdout",
          "output_type": "stream",
          "text": [
            "==================== ENCODER ====================\n",
            "---------------------------\n",
            "ENCODER ==> OUTPUT SHAPE (None, 256)\n",
            "ENCODER ==> HIDDEN STATE SHAPE (50, 256)\n",
            "==================== DECODER ====================\n",
            "---------------------------\n",
            "FINAL OUTPUT SHAPE (None, 76, 1852)\n",
            "==================================================\n",
            "==================== ENCODER ====================\n",
            "---------------------------\n",
            "ENCODER ==> OUTPUT SHAPE (None, 256)\n",
            "ENCODER ==> HIDDEN STATE SHAPE (50, 256)\n",
            "==================== DECODER ====================\n",
            "---------------------------\n",
            "FINAL OUTPUT SHAPE (None, 76, 1852)\n",
            "==================================================\n"
          ]
        },
        {
          "name": "stderr",
          "output_type": "stream",
          "text": [
            "WARNING:absl:<__main__.Attention object at 0x7954506d99f0> has the same name 'Attention' as a built-in Keras object. Consider renaming <class '__main__.Attention'> to avoid naming conflicts when loading with `tf.keras.models.load_model`. If renaming is not possible, pass the object in the `custom_objects` parameter of the load function.\n"
          ]
        },
        {
          "name": "stdout",
          "output_type": "stream",
          "text": [
            "\b\b\b\b\b\b\b\b\b\b\b\b\b\b\b\b\b\b\b\b\b\b\b\b\b\b\b\b\b\b\b\b\b\b\b\b\b\b\b\b\b\b\b\b\b\b\b\b\b\b\b\b\b\b\b\b\b\b\b\b\b\b\b\r53/53 [==============================] - 100s 2s/step - loss: 1.2469 - val_loss: 1.1371 - lr: 0.0010\n",
            "Epoch 8/40\n",
            "53/53 [==============================] - ETA: 0s - loss: 1.1073\n",
            "Epoch 8: val_loss improved from 1.13706 to 1.05093, saving model to /content/checkpoint/\n",
            "==================== ENCODER ====================\n",
            "---------------------------\n",
            "ENCODER ==> OUTPUT SHAPE (None, 256)\n",
            "ENCODER ==> HIDDEN STATE SHAPE (50, 256)\n",
            "==================== DECODER ====================\n",
            "---------------------------\n",
            "FINAL OUTPUT SHAPE (50, 76, 1852)\n",
            "==================================================\n"
          ]
        },
        {
          "name": "stderr",
          "output_type": "stream",
          "text": [
            "WARNING:tensorflow:Skipping full serialization of Keras layer <keras.src.layers.core.dense.Dense object at 0x7954506db190>, because it is not built.\n"
          ]
        },
        {
          "name": "stdout",
          "output_type": "stream",
          "text": [
            "==================== ENCODER ====================\n",
            "---------------------------\n",
            "ENCODER ==> OUTPUT SHAPE (None, 256)\n",
            "ENCODER ==> HIDDEN STATE SHAPE (50, 256)\n",
            "==================== DECODER ====================\n",
            "---------------------------\n",
            "FINAL OUTPUT SHAPE (None, 76, 1852)\n",
            "==================================================\n",
            "==================== ENCODER ====================\n",
            "---------------------------\n",
            "ENCODER ==> OUTPUT SHAPE (None, 256)\n",
            "ENCODER ==> HIDDEN STATE SHAPE (50, 256)\n",
            "==================== DECODER ====================\n",
            "---------------------------\n",
            "FINAL OUTPUT SHAPE (None, 76, 1852)\n",
            "==================================================\n"
          ]
        },
        {
          "name": "stderr",
          "output_type": "stream",
          "text": [
            "WARNING:absl:<__main__.Attention object at 0x7954506d99f0> has the same name 'Attention' as a built-in Keras object. Consider renaming <class '__main__.Attention'> to avoid naming conflicts when loading with `tf.keras.models.load_model`. If renaming is not possible, pass the object in the `custom_objects` parameter of the load function.\n"
          ]
        },
        {
          "name": "stdout",
          "output_type": "stream",
          "text": [
            "\b\b\b\b\b\b\b\b\b\b\b\b\b\b\b\b\b\b\b\b\b\b\b\b\b\b\b\b\b\b\b\b\b\b\b\b\b\b\b\b\b\b\b\b\b\b\b\b\b\b\b\b\b\b\b\b\b\b\b\b\b\b\b\r53/53 [==============================] - 94s 2s/step - loss: 1.1073 - val_loss: 1.0509 - lr: 0.0010\n",
            "Epoch 9/40\n",
            "53/53 [==============================] - ETA: 0s - loss: 1.0242\n",
            "Epoch 9: val_loss improved from 1.05093 to 0.99031, saving model to /content/checkpoint/\n",
            "==================== ENCODER ====================\n",
            "---------------------------\n",
            "ENCODER ==> OUTPUT SHAPE (None, 256)\n",
            "ENCODER ==> HIDDEN STATE SHAPE (50, 256)\n",
            "==================== DECODER ====================\n",
            "---------------------------\n",
            "FINAL OUTPUT SHAPE (50, 76, 1852)\n",
            "==================================================\n"
          ]
        },
        {
          "name": "stderr",
          "output_type": "stream",
          "text": [
            "WARNING:tensorflow:Skipping full serialization of Keras layer <keras.src.layers.core.dense.Dense object at 0x7954506db190>, because it is not built.\n"
          ]
        },
        {
          "name": "stdout",
          "output_type": "stream",
          "text": [
            "==================== ENCODER ====================\n",
            "---------------------------\n",
            "ENCODER ==> OUTPUT SHAPE (None, 256)\n",
            "ENCODER ==> HIDDEN STATE SHAPE (50, 256)\n",
            "==================== DECODER ====================\n",
            "---------------------------\n",
            "FINAL OUTPUT SHAPE (None, 76, 1852)\n",
            "==================================================\n",
            "==================== ENCODER ====================\n",
            "---------------------------\n",
            "ENCODER ==> OUTPUT SHAPE (None, 256)\n",
            "ENCODER ==> HIDDEN STATE SHAPE (50, 256)\n",
            "==================== DECODER ====================\n",
            "---------------------------\n",
            "FINAL OUTPUT SHAPE (None, 76, 1852)\n",
            "==================================================\n"
          ]
        },
        {
          "name": "stderr",
          "output_type": "stream",
          "text": [
            "WARNING:absl:<__main__.Attention object at 0x7954506d99f0> has the same name 'Attention' as a built-in Keras object. Consider renaming <class '__main__.Attention'> to avoid naming conflicts when loading with `tf.keras.models.load_model`. If renaming is not possible, pass the object in the `custom_objects` parameter of the load function.\n"
          ]
        },
        {
          "name": "stdout",
          "output_type": "stream",
          "text": [
            "\b\b\b\b\b\b\b\b\b\b\b\b\b\b\b\b\b\b\b\b\b\b\b\b\b\b\b\b\b\b\b\b\b\b\b\b\b\b\b\b\b\b\b\b\b\b\b\b\b\b\b\b\b\b\b\b\b\b\b\b\b\b\b\r53/53 [==============================] - 94s 2s/step - loss: 1.0242 - val_loss: 0.9903 - lr: 0.0010\n",
            "Epoch 10/40\n",
            "53/53 [==============================] - ETA: 0s - loss: 0.9612\n",
            "Epoch 10: val_loss improved from 0.99031 to 0.95629, saving model to /content/checkpoint/\n",
            "==================== ENCODER ====================\n",
            "---------------------------\n",
            "ENCODER ==> OUTPUT SHAPE (None, 256)\n",
            "ENCODER ==> HIDDEN STATE SHAPE (50, 256)\n",
            "==================== DECODER ====================\n",
            "---------------------------\n",
            "FINAL OUTPUT SHAPE (50, 76, 1852)\n",
            "==================================================\n"
          ]
        },
        {
          "name": "stderr",
          "output_type": "stream",
          "text": [
            "WARNING:tensorflow:Skipping full serialization of Keras layer <keras.src.layers.core.dense.Dense object at 0x7954506db190>, because it is not built.\n"
          ]
        },
        {
          "name": "stdout",
          "output_type": "stream",
          "text": [
            "==================== ENCODER ====================\n",
            "---------------------------\n",
            "ENCODER ==> OUTPUT SHAPE (None, 256)\n",
            "ENCODER ==> HIDDEN STATE SHAPE (50, 256)\n",
            "==================== DECODER ====================\n",
            "---------------------------\n",
            "FINAL OUTPUT SHAPE (None, 76, 1852)\n",
            "==================================================\n",
            "==================== ENCODER ====================\n",
            "---------------------------\n",
            "ENCODER ==> OUTPUT SHAPE (None, 256)\n",
            "ENCODER ==> HIDDEN STATE SHAPE (50, 256)\n",
            "==================== DECODER ====================\n",
            "---------------------------\n",
            "FINAL OUTPUT SHAPE (None, 76, 1852)\n",
            "==================================================\n"
          ]
        },
        {
          "name": "stderr",
          "output_type": "stream",
          "text": [
            "WARNING:absl:<__main__.Attention object at 0x7954506d99f0> has the same name 'Attention' as a built-in Keras object. Consider renaming <class '__main__.Attention'> to avoid naming conflicts when loading with `tf.keras.models.load_model`. If renaming is not possible, pass the object in the `custom_objects` parameter of the load function.\n"
          ]
        },
        {
          "name": "stdout",
          "output_type": "stream",
          "text": [
            "\b\b\b\b\b\b\b\b\b\b\b\b\b\b\b\b\b\b\b\b\b\b\b\b\b\b\b\b\b\b\b\b\b\b\b\b\b\b\b\b\b\b\b\b\b\b\b\b\b\b\b\b\b\b\b\b\b\b\b\b\b\b\b\r53/53 [==============================] - 93s 2s/step - loss: 0.9612 - val_loss: 0.9563 - lr: 0.0010\n",
            "Epoch 11/40\n",
            "53/53 [==============================] - ETA: 0s - loss: 0.9149\n",
            "Epoch 11: val_loss improved from 0.95629 to 0.92679, saving model to /content/checkpoint/\n",
            "==================== ENCODER ====================\n",
            "---------------------------\n",
            "ENCODER ==> OUTPUT SHAPE (None, 256)\n",
            "ENCODER ==> HIDDEN STATE SHAPE (50, 256)\n",
            "==================== DECODER ====================\n",
            "---------------------------\n",
            "FINAL OUTPUT SHAPE (50, 76, 1852)\n",
            "==================================================\n"
          ]
        },
        {
          "name": "stderr",
          "output_type": "stream",
          "text": [
            "WARNING:tensorflow:Skipping full serialization of Keras layer <keras.src.layers.core.dense.Dense object at 0x7954506db190>, because it is not built.\n"
          ]
        },
        {
          "name": "stdout",
          "output_type": "stream",
          "text": [
            "==================== ENCODER ====================\n",
            "---------------------------\n",
            "ENCODER ==> OUTPUT SHAPE (None, 256)\n",
            "ENCODER ==> HIDDEN STATE SHAPE (50, 256)\n",
            "==================== DECODER ====================\n",
            "---------------------------\n",
            "FINAL OUTPUT SHAPE (None, 76, 1852)\n",
            "==================================================\n",
            "==================== ENCODER ====================\n",
            "---------------------------\n",
            "ENCODER ==> OUTPUT SHAPE (None, 256)\n",
            "ENCODER ==> HIDDEN STATE SHAPE (50, 256)\n",
            "==================== DECODER ====================\n",
            "---------------------------\n",
            "FINAL OUTPUT SHAPE (None, 76, 1852)\n",
            "==================================================\n"
          ]
        },
        {
          "name": "stderr",
          "output_type": "stream",
          "text": [
            "WARNING:absl:<__main__.Attention object at 0x7954506d99f0> has the same name 'Attention' as a built-in Keras object. Consider renaming <class '__main__.Attention'> to avoid naming conflicts when loading with `tf.keras.models.load_model`. If renaming is not possible, pass the object in the `custom_objects` parameter of the load function.\n"
          ]
        },
        {
          "name": "stdout",
          "output_type": "stream",
          "text": [
            "\b\b\b\b\b\b\b\b\b\b\b\b\b\b\b\b\b\b\b\b\b\b\b\b\b\b\b\b\b\b\b\b\b\b\b\b\b\b\b\b\b\b\b\b\b\b\b\b\b\b\b\b\b\b\b\b\b\b\b\b\b\b\b\r53/53 [==============================] - 97s 2s/step - loss: 0.9149 - val_loss: 0.9268 - lr: 0.0010\n",
            "Epoch 12/40\n",
            "53/53 [==============================] - ETA: 0s - loss: 0.8770\n",
            "Epoch 12: val_loss improved from 0.92679 to 0.90293, saving model to /content/checkpoint/\n",
            "==================== ENCODER ====================\n",
            "---------------------------\n",
            "ENCODER ==> OUTPUT SHAPE (None, 256)\n",
            "ENCODER ==> HIDDEN STATE SHAPE (50, 256)\n",
            "==================== DECODER ====================\n",
            "---------------------------\n",
            "FINAL OUTPUT SHAPE (50, 76, 1852)\n",
            "==================================================\n"
          ]
        },
        {
          "name": "stderr",
          "output_type": "stream",
          "text": [
            "WARNING:tensorflow:Skipping full serialization of Keras layer <keras.src.layers.core.dense.Dense object at 0x7954506db190>, because it is not built.\n"
          ]
        },
        {
          "name": "stdout",
          "output_type": "stream",
          "text": [
            "==================== ENCODER ====================\n",
            "---------------------------\n",
            "ENCODER ==> OUTPUT SHAPE (None, 256)\n",
            "ENCODER ==> HIDDEN STATE SHAPE (50, 256)\n",
            "==================== DECODER ====================\n",
            "---------------------------\n",
            "FINAL OUTPUT SHAPE (None, 76, 1852)\n",
            "==================================================\n",
            "==================== ENCODER ====================\n",
            "---------------------------\n",
            "ENCODER ==> OUTPUT SHAPE (None, 256)\n",
            "ENCODER ==> HIDDEN STATE SHAPE (50, 256)\n",
            "==================== DECODER ====================\n",
            "---------------------------\n",
            "FINAL OUTPUT SHAPE (None, 76, 1852)\n",
            "==================================================\n"
          ]
        },
        {
          "name": "stderr",
          "output_type": "stream",
          "text": [
            "WARNING:absl:<__main__.Attention object at 0x7954506d99f0> has the same name 'Attention' as a built-in Keras object. Consider renaming <class '__main__.Attention'> to avoid naming conflicts when loading with `tf.keras.models.load_model`. If renaming is not possible, pass the object in the `custom_objects` parameter of the load function.\n"
          ]
        },
        {
          "name": "stdout",
          "output_type": "stream",
          "text": [
            "\b\b\b\b\b\b\b\b\b\b\b\b\b\b\b\b\b\b\b\b\b\b\b\b\b\b\b\b\b\b\b\b\b\b\b\b\b\b\b\b\b\b\b\b\b\b\b\b\b\b\b\b\b\b\b\b\b\b\b\b\b\b\b\r53/53 [==============================] - 96s 2s/step - loss: 0.8770 - val_loss: 0.9029 - lr: 0.0010\n",
            "Epoch 13/40\n",
            "53/53 [==============================] - ETA: 0s - loss: 0.8463\n",
            "Epoch 13: val_loss improved from 0.90293 to 0.89001, saving model to /content/checkpoint/\n",
            "==================== ENCODER ====================\n",
            "---------------------------\n",
            "ENCODER ==> OUTPUT SHAPE (None, 256)\n",
            "ENCODER ==> HIDDEN STATE SHAPE (50, 256)\n",
            "==================== DECODER ====================\n",
            "---------------------------\n",
            "FINAL OUTPUT SHAPE (50, 76, 1852)\n",
            "==================================================\n"
          ]
        },
        {
          "name": "stderr",
          "output_type": "stream",
          "text": [
            "WARNING:tensorflow:Skipping full serialization of Keras layer <keras.src.layers.core.dense.Dense object at 0x7954506db190>, because it is not built.\n"
          ]
        },
        {
          "name": "stdout",
          "output_type": "stream",
          "text": [
            "==================== ENCODER ====================\n",
            "---------------------------\n",
            "ENCODER ==> OUTPUT SHAPE (None, 256)\n",
            "ENCODER ==> HIDDEN STATE SHAPE (50, 256)\n",
            "==================== DECODER ====================\n",
            "---------------------------\n",
            "FINAL OUTPUT SHAPE (None, 76, 1852)\n",
            "==================================================\n",
            "==================== ENCODER ====================\n",
            "---------------------------\n",
            "ENCODER ==> OUTPUT SHAPE (None, 256)\n",
            "ENCODER ==> HIDDEN STATE SHAPE (50, 256)\n",
            "==================== DECODER ====================\n",
            "---------------------------\n",
            "FINAL OUTPUT SHAPE (None, 76, 1852)\n",
            "==================================================\n"
          ]
        },
        {
          "name": "stderr",
          "output_type": "stream",
          "text": [
            "WARNING:absl:<__main__.Attention object at 0x7954506d99f0> has the same name 'Attention' as a built-in Keras object. Consider renaming <class '__main__.Attention'> to avoid naming conflicts when loading with `tf.keras.models.load_model`. If renaming is not possible, pass the object in the `custom_objects` parameter of the load function.\n"
          ]
        },
        {
          "name": "stdout",
          "output_type": "stream",
          "text": [
            "\b\b\b\b\b\b\b\b\b\b\b\b\b\b\b\b\b\b\b\b\b\b\b\b\b\b\b\b\b\b\b\b\b\b\b\b\b\b\b\b\b\b\b\b\b\b\b\b\b\b\b\b\b\b\b\b\b\b\b\b\b\b\b\r53/53 [==============================] - 96s 2s/step - loss: 0.8463 - val_loss: 0.8900 - lr: 0.0010\n",
            "Epoch 14/40\n",
            "53/53 [==============================] - ETA: 0s - loss: 0.8169\n",
            "Epoch 14: val_loss improved from 0.89001 to 0.87696, saving model to /content/checkpoint/\n",
            "==================== ENCODER ====================\n",
            "---------------------------\n",
            "ENCODER ==> OUTPUT SHAPE (None, 256)\n",
            "ENCODER ==> HIDDEN STATE SHAPE (50, 256)\n",
            "==================== DECODER ====================\n",
            "---------------------------\n",
            "FINAL OUTPUT SHAPE (50, 76, 1852)\n",
            "==================================================\n"
          ]
        },
        {
          "name": "stderr",
          "output_type": "stream",
          "text": [
            "WARNING:tensorflow:Skipping full serialization of Keras layer <keras.src.layers.core.dense.Dense object at 0x7954506db190>, because it is not built.\n"
          ]
        },
        {
          "name": "stdout",
          "output_type": "stream",
          "text": [
            "==================== ENCODER ====================\n",
            "---------------------------\n",
            "ENCODER ==> OUTPUT SHAPE (None, 256)\n",
            "ENCODER ==> HIDDEN STATE SHAPE (50, 256)\n",
            "==================== DECODER ====================\n",
            "---------------------------\n",
            "FINAL OUTPUT SHAPE (None, 76, 1852)\n",
            "==================================================\n",
            "==================== ENCODER ====================\n",
            "---------------------------\n",
            "ENCODER ==> OUTPUT SHAPE (None, 256)\n",
            "ENCODER ==> HIDDEN STATE SHAPE (50, 256)\n",
            "==================== DECODER ====================\n",
            "---------------------------\n",
            "FINAL OUTPUT SHAPE (None, 76, 1852)\n",
            "==================================================\n"
          ]
        },
        {
          "name": "stderr",
          "output_type": "stream",
          "text": [
            "WARNING:absl:<__main__.Attention object at 0x7954506d99f0> has the same name 'Attention' as a built-in Keras object. Consider renaming <class '__main__.Attention'> to avoid naming conflicts when loading with `tf.keras.models.load_model`. If renaming is not possible, pass the object in the `custom_objects` parameter of the load function.\n"
          ]
        },
        {
          "name": "stdout",
          "output_type": "stream",
          "text": [
            "\b\b\b\b\b\b\b\b\b\b\b\b\b\b\b\b\b\b\b\b\b\b\b\b\b\b\b\b\b\b\b\b\b\b\b\b\b\b\b\b\b\b\b\b\b\b\b\b\b\b\b\b\b\b\b\b\b\b\b\b\b\b\b\r53/53 [==============================] - 98s 2s/step - loss: 0.8169 - val_loss: 0.8770 - lr: 0.0010\n",
            "Epoch 15/40\n",
            "53/53 [==============================] - ETA: 0s - loss: 0.7932\n",
            "Epoch 15: val_loss improved from 0.87696 to 0.86100, saving model to /content/checkpoint/\n",
            "==================== ENCODER ====================\n",
            "---------------------------\n",
            "ENCODER ==> OUTPUT SHAPE (None, 256)\n",
            "ENCODER ==> HIDDEN STATE SHAPE (50, 256)\n",
            "==================== DECODER ====================\n",
            "---------------------------\n",
            "FINAL OUTPUT SHAPE (50, 76, 1852)\n",
            "==================================================\n"
          ]
        },
        {
          "name": "stderr",
          "output_type": "stream",
          "text": [
            "WARNING:tensorflow:Skipping full serialization of Keras layer <keras.src.layers.core.dense.Dense object at 0x7954506db190>, because it is not built.\n"
          ]
        },
        {
          "name": "stdout",
          "output_type": "stream",
          "text": [
            "==================== ENCODER ====================\n",
            "---------------------------\n",
            "ENCODER ==> OUTPUT SHAPE (None, 256)\n",
            "ENCODER ==> HIDDEN STATE SHAPE (50, 256)\n",
            "==================== DECODER ====================\n",
            "---------------------------\n",
            "FINAL OUTPUT SHAPE (None, 76, 1852)\n",
            "==================================================\n",
            "==================== ENCODER ====================\n",
            "---------------------------\n",
            "ENCODER ==> OUTPUT SHAPE (None, 256)\n",
            "ENCODER ==> HIDDEN STATE SHAPE (50, 256)\n",
            "==================== DECODER ====================\n",
            "---------------------------\n",
            "FINAL OUTPUT SHAPE (None, 76, 1852)\n",
            "==================================================\n"
          ]
        },
        {
          "name": "stderr",
          "output_type": "stream",
          "text": [
            "WARNING:absl:<__main__.Attention object at 0x7954506d99f0> has the same name 'Attention' as a built-in Keras object. Consider renaming <class '__main__.Attention'> to avoid naming conflicts when loading with `tf.keras.models.load_model`. If renaming is not possible, pass the object in the `custom_objects` parameter of the load function.\n"
          ]
        },
        {
          "name": "stdout",
          "output_type": "stream",
          "text": [
            "\b\b\b\b\b\b\b\b\b\b\b\b\b\b\b\b\b\b\b\b\b\b\b\b\b\b\b\b\b\b\b\b\b\b\b\b\b\b\b\b\b\b\b\b\b\b\b\b\b\b\b\b\b\b\b\b\b\b\b\b\b\b\b\r53/53 [==============================] - 96s 2s/step - loss: 0.7932 - val_loss: 0.8610 - lr: 0.0010\n",
            "Epoch 16/40\n",
            "53/53 [==============================] - ETA: 0s - loss: 0.7699\n",
            "Epoch 16: val_loss improved from 0.86100 to 0.85241, saving model to /content/checkpoint/\n",
            "==================== ENCODER ====================\n",
            "---------------------------\n",
            "ENCODER ==> OUTPUT SHAPE (None, 256)\n",
            "ENCODER ==> HIDDEN STATE SHAPE (50, 256)\n",
            "==================== DECODER ====================\n",
            "---------------------------\n",
            "FINAL OUTPUT SHAPE (50, 76, 1852)\n",
            "==================================================\n"
          ]
        },
        {
          "name": "stderr",
          "output_type": "stream",
          "text": [
            "WARNING:tensorflow:Skipping full serialization of Keras layer <keras.src.layers.core.dense.Dense object at 0x7954506db190>, because it is not built.\n"
          ]
        },
        {
          "name": "stdout",
          "output_type": "stream",
          "text": [
            "==================== ENCODER ====================\n",
            "---------------------------\n",
            "ENCODER ==> OUTPUT SHAPE (None, 256)\n",
            "ENCODER ==> HIDDEN STATE SHAPE (50, 256)\n",
            "==================== DECODER ====================\n",
            "---------------------------\n",
            "FINAL OUTPUT SHAPE (None, 76, 1852)\n",
            "==================================================\n",
            "==================== ENCODER ====================\n",
            "---------------------------\n",
            "ENCODER ==> OUTPUT SHAPE (None, 256)\n",
            "ENCODER ==> HIDDEN STATE SHAPE (50, 256)\n",
            "==================== DECODER ====================\n",
            "---------------------------\n",
            "FINAL OUTPUT SHAPE (None, 76, 1852)\n",
            "==================================================\n"
          ]
        },
        {
          "name": "stderr",
          "output_type": "stream",
          "text": [
            "WARNING:absl:<__main__.Attention object at 0x7954506d99f0> has the same name 'Attention' as a built-in Keras object. Consider renaming <class '__main__.Attention'> to avoid naming conflicts when loading with `tf.keras.models.load_model`. If renaming is not possible, pass the object in the `custom_objects` parameter of the load function.\n"
          ]
        },
        {
          "name": "stdout",
          "output_type": "stream",
          "text": [
            "\b\b\b\b\b\b\b\b\b\b\b\b\b\b\b\b\b\b\b\b\b\b\b\b\b\b\b\b\b\b\b\b\b\b\b\b\b\b\b\b\b\b\b\b\b\b\b\b\b\b\b\b\b\b\b\b\b\b\b\b\b\b\b\r53/53 [==============================] - 96s 2s/step - loss: 0.7699 - val_loss: 0.8524 - lr: 0.0010\n",
            "Epoch 17/40\n",
            "53/53 [==============================] - ETA: 0s - loss: 0.7514\n",
            "Epoch 17: val_loss improved from 0.85241 to 0.84439, saving model to /content/checkpoint/\n",
            "==================== ENCODER ====================\n",
            "---------------------------\n",
            "ENCODER ==> OUTPUT SHAPE (None, 256)\n",
            "ENCODER ==> HIDDEN STATE SHAPE (50, 256)\n",
            "==================== DECODER ====================\n",
            "---------------------------\n",
            "FINAL OUTPUT SHAPE (50, 76, 1852)\n",
            "==================================================\n"
          ]
        },
        {
          "name": "stderr",
          "output_type": "stream",
          "text": [
            "WARNING:tensorflow:Skipping full serialization of Keras layer <keras.src.layers.core.dense.Dense object at 0x7954506db190>, because it is not built.\n"
          ]
        },
        {
          "name": "stdout",
          "output_type": "stream",
          "text": [
            "==================== ENCODER ====================\n",
            "---------------------------\n",
            "ENCODER ==> OUTPUT SHAPE (None, 256)\n",
            "ENCODER ==> HIDDEN STATE SHAPE (50, 256)\n",
            "==================== DECODER ====================\n",
            "---------------------------\n",
            "FINAL OUTPUT SHAPE (None, 76, 1852)\n",
            "==================================================\n",
            "==================== ENCODER ====================\n",
            "---------------------------\n",
            "ENCODER ==> OUTPUT SHAPE (None, 256)\n",
            "ENCODER ==> HIDDEN STATE SHAPE (50, 256)\n",
            "==================== DECODER ====================\n",
            "---------------------------\n",
            "FINAL OUTPUT SHAPE (None, 76, 1852)\n",
            "==================================================\n"
          ]
        },
        {
          "name": "stderr",
          "output_type": "stream",
          "text": [
            "WARNING:absl:<__main__.Attention object at 0x7954506d99f0> has the same name 'Attention' as a built-in Keras object. Consider renaming <class '__main__.Attention'> to avoid naming conflicts when loading with `tf.keras.models.load_model`. If renaming is not possible, pass the object in the `custom_objects` parameter of the load function.\n"
          ]
        },
        {
          "name": "stdout",
          "output_type": "stream",
          "text": [
            "\b\b\b\b\b\b\b\b\b\b\b\b\b\b\b\b\b\b\b\b\b\b\b\b\b\b\b\b\b\b\b\b\b\b\b\b\b\b\b\b\b\b\b\b\b\b\b\b\b\b\b\b\b\b\b\b\b\b\b\b\b\b\b\r53/53 [==============================] - 96s 2s/step - loss: 0.7514 - val_loss: 0.8444 - lr: 0.0010\n",
            "Epoch 18/40\n",
            "53/53 [==============================] - ETA: 0s - loss: 0.7344\n",
            "Epoch 18: val_loss improved from 0.84439 to 0.83887, saving model to /content/checkpoint/\n",
            "==================== ENCODER ====================\n",
            "---------------------------\n",
            "ENCODER ==> OUTPUT SHAPE (None, 256)\n",
            "ENCODER ==> HIDDEN STATE SHAPE (50, 256)\n",
            "==================== DECODER ====================\n",
            "---------------------------\n",
            "FINAL OUTPUT SHAPE (50, 76, 1852)\n",
            "==================================================\n"
          ]
        },
        {
          "name": "stderr",
          "output_type": "stream",
          "text": [
            "WARNING:tensorflow:Skipping full serialization of Keras layer <keras.src.layers.core.dense.Dense object at 0x7954506db190>, because it is not built.\n"
          ]
        },
        {
          "name": "stdout",
          "output_type": "stream",
          "text": [
            "==================== ENCODER ====================\n",
            "---------------------------\n",
            "ENCODER ==> OUTPUT SHAPE (None, 256)\n",
            "ENCODER ==> HIDDEN STATE SHAPE (50, 256)\n",
            "==================== DECODER ====================\n",
            "---------------------------\n",
            "FINAL OUTPUT SHAPE (None, 76, 1852)\n",
            "==================================================\n",
            "==================== ENCODER ====================\n",
            "---------------------------\n",
            "ENCODER ==> OUTPUT SHAPE (None, 256)\n",
            "ENCODER ==> HIDDEN STATE SHAPE (50, 256)\n",
            "==================== DECODER ====================\n",
            "---------------------------\n",
            "FINAL OUTPUT SHAPE (None, 76, 1852)\n",
            "==================================================\n"
          ]
        },
        {
          "name": "stderr",
          "output_type": "stream",
          "text": [
            "WARNING:absl:<__main__.Attention object at 0x7954506d99f0> has the same name 'Attention' as a built-in Keras object. Consider renaming <class '__main__.Attention'> to avoid naming conflicts when loading with `tf.keras.models.load_model`. If renaming is not possible, pass the object in the `custom_objects` parameter of the load function.\n"
          ]
        },
        {
          "name": "stdout",
          "output_type": "stream",
          "text": [
            "\b\b\b\b\b\b\b\b\b\b\b\b\b\b\b\b\b\b\b\b\b\b\b\b\b\b\b\b\b\b\b\b\b\b\b\b\b\b\b\b\b\b\b\b\b\b\b\b\b\b\b\b\b\b\b\b\b\b\b\b\b\b\b\r53/53 [==============================] - 95s 2s/step - loss: 0.7344 - val_loss: 0.8389 - lr: 0.0010\n",
            "Epoch 19/40\n",
            "53/53 [==============================] - ETA: 0s - loss: 0.7170\n",
            "Epoch 19: val_loss improved from 0.83887 to 0.83346, saving model to /content/checkpoint/\n",
            "==================== ENCODER ====================\n",
            "---------------------------\n",
            "ENCODER ==> OUTPUT SHAPE (None, 256)\n",
            "ENCODER ==> HIDDEN STATE SHAPE (50, 256)\n",
            "==================== DECODER ====================\n",
            "---------------------------\n",
            "FINAL OUTPUT SHAPE (50, 76, 1852)\n",
            "==================================================\n"
          ]
        },
        {
          "name": "stderr",
          "output_type": "stream",
          "text": [
            "WARNING:tensorflow:Skipping full serialization of Keras layer <keras.src.layers.core.dense.Dense object at 0x7954506db190>, because it is not built.\n"
          ]
        },
        {
          "name": "stdout",
          "output_type": "stream",
          "text": [
            "==================== ENCODER ====================\n",
            "---------------------------\n",
            "ENCODER ==> OUTPUT SHAPE (None, 256)\n",
            "ENCODER ==> HIDDEN STATE SHAPE (50, 256)\n",
            "==================== DECODER ====================\n",
            "---------------------------\n",
            "FINAL OUTPUT SHAPE (None, 76, 1852)\n",
            "==================================================\n",
            "==================== ENCODER ====================\n",
            "---------------------------\n",
            "ENCODER ==> OUTPUT SHAPE (None, 256)\n",
            "ENCODER ==> HIDDEN STATE SHAPE (50, 256)\n",
            "==================== DECODER ====================\n",
            "---------------------------\n",
            "FINAL OUTPUT SHAPE (None, 76, 1852)\n",
            "==================================================\n"
          ]
        },
        {
          "name": "stderr",
          "output_type": "stream",
          "text": [
            "WARNING:absl:<__main__.Attention object at 0x7954506d99f0> has the same name 'Attention' as a built-in Keras object. Consider renaming <class '__main__.Attention'> to avoid naming conflicts when loading with `tf.keras.models.load_model`. If renaming is not possible, pass the object in the `custom_objects` parameter of the load function.\n"
          ]
        },
        {
          "name": "stdout",
          "output_type": "stream",
          "text": [
            "\b\b\b\b\b\b\b\b\b\b\b\b\b\b\b\b\b\b\b\b\b\b\b\b\b\b\b\b\b\b\b\b\b\b\b\b\b\b\b\b\b\b\b\b\b\b\b\b\b\b\b\b\b\b\b\b\b\b\b\b\b\b\b\r53/53 [==============================] - 95s 2s/step - loss: 0.7170 - val_loss: 0.8335 - lr: 0.0010\n",
            "Epoch 20/40\n",
            "53/53 [==============================] - ETA: 0s - loss: 0.7011\n",
            "Epoch 20: val_loss improved from 0.83346 to 0.82879, saving model to /content/checkpoint/\n",
            "==================== ENCODER ====================\n",
            "---------------------------\n",
            "ENCODER ==> OUTPUT SHAPE (None, 256)\n",
            "ENCODER ==> HIDDEN STATE SHAPE (50, 256)\n",
            "==================== DECODER ====================\n",
            "---------------------------\n",
            "FINAL OUTPUT SHAPE (50, 76, 1852)\n",
            "==================================================\n"
          ]
        },
        {
          "name": "stderr",
          "output_type": "stream",
          "text": [
            "WARNING:tensorflow:Skipping full serialization of Keras layer <keras.src.layers.core.dense.Dense object at 0x7954506db190>, because it is not built.\n"
          ]
        },
        {
          "name": "stdout",
          "output_type": "stream",
          "text": [
            "==================== ENCODER ====================\n",
            "---------------------------\n",
            "ENCODER ==> OUTPUT SHAPE (None, 256)\n",
            "ENCODER ==> HIDDEN STATE SHAPE (50, 256)\n",
            "==================== DECODER ====================\n",
            "---------------------------\n",
            "FINAL OUTPUT SHAPE (None, 76, 1852)\n",
            "==================================================\n",
            "==================== ENCODER ====================\n",
            "---------------------------\n",
            "ENCODER ==> OUTPUT SHAPE (None, 256)\n",
            "ENCODER ==> HIDDEN STATE SHAPE (50, 256)\n",
            "==================== DECODER ====================\n",
            "---------------------------\n",
            "FINAL OUTPUT SHAPE (None, 76, 1852)\n",
            "==================================================\n"
          ]
        },
        {
          "name": "stderr",
          "output_type": "stream",
          "text": [
            "WARNING:absl:<__main__.Attention object at 0x7954506d99f0> has the same name 'Attention' as a built-in Keras object. Consider renaming <class '__main__.Attention'> to avoid naming conflicts when loading with `tf.keras.models.load_model`. If renaming is not possible, pass the object in the `custom_objects` parameter of the load function.\n"
          ]
        },
        {
          "name": "stdout",
          "output_type": "stream",
          "text": [
            "\b\b\b\b\b\b\b\b\b\b\b\b\b\b\b\b\b\b\b\b\b\b\b\b\b\b\b\b\b\b\b\b\b\b\b\b\b\b\b\b\b\b\b\b\b\b\b\b\b\b\b\b\b\b\b\b\b\b\b\b\b\b\b\r53/53 [==============================] - 99s 2s/step - loss: 0.7011 - val_loss: 0.8288 - lr: 0.0010\n",
            "Epoch 21/40\n",
            "53/53 [==============================] - ETA: 0s - loss: 0.6869\n",
            "Epoch 21: val_loss improved from 0.82879 to 0.82526, saving model to /content/checkpoint/\n",
            "==================== ENCODER ====================\n",
            "---------------------------\n",
            "ENCODER ==> OUTPUT SHAPE (None, 256)\n",
            "ENCODER ==> HIDDEN STATE SHAPE (50, 256)\n",
            "==================== DECODER ====================\n",
            "---------------------------\n",
            "FINAL OUTPUT SHAPE (50, 76, 1852)\n",
            "==================================================\n"
          ]
        },
        {
          "name": "stderr",
          "output_type": "stream",
          "text": [
            "WARNING:tensorflow:Skipping full serialization of Keras layer <keras.src.layers.core.dense.Dense object at 0x7954506db190>, because it is not built.\n"
          ]
        },
        {
          "name": "stdout",
          "output_type": "stream",
          "text": [
            "==================== ENCODER ====================\n",
            "---------------------------\n",
            "ENCODER ==> OUTPUT SHAPE (None, 256)\n",
            "ENCODER ==> HIDDEN STATE SHAPE (50, 256)\n",
            "==================== DECODER ====================\n",
            "---------------------------\n",
            "FINAL OUTPUT SHAPE (None, 76, 1852)\n",
            "==================================================\n",
            "==================== ENCODER ====================\n",
            "---------------------------\n",
            "ENCODER ==> OUTPUT SHAPE (None, 256)\n",
            "ENCODER ==> HIDDEN STATE SHAPE (50, 256)\n",
            "==================== DECODER ====================\n",
            "---------------------------\n",
            "FINAL OUTPUT SHAPE (None, 76, 1852)\n",
            "==================================================\n"
          ]
        },
        {
          "name": "stderr",
          "output_type": "stream",
          "text": [
            "WARNING:absl:<__main__.Attention object at 0x7954506d99f0> has the same name 'Attention' as a built-in Keras object. Consider renaming <class '__main__.Attention'> to avoid naming conflicts when loading with `tf.keras.models.load_model`. If renaming is not possible, pass the object in the `custom_objects` parameter of the load function.\n"
          ]
        },
        {
          "name": "stdout",
          "output_type": "stream",
          "text": [
            "\b\b\b\b\b\b\b\b\b\b\b\b\b\b\b\b\b\b\b\b\b\b\b\b\b\b\b\b\b\b\b\b\b\b\b\b\b\b\b\b\b\b\b\b\b\b\b\b\b\b\b\b\b\b\b\b\b\b\b\b\b\b\b\r53/53 [==============================] - 95s 2s/step - loss: 0.6869 - val_loss: 0.8253 - lr: 0.0010\n",
            "Epoch 22/40\n",
            "53/53 [==============================] - ETA: 0s - loss: 0.6740\n",
            "Epoch 22: val_loss improved from 0.82526 to 0.82018, saving model to /content/checkpoint/\n",
            "==================== ENCODER ====================\n",
            "---------------------------\n",
            "ENCODER ==> OUTPUT SHAPE (None, 256)\n",
            "ENCODER ==> HIDDEN STATE SHAPE (50, 256)\n",
            "==================== DECODER ====================\n",
            "---------------------------\n",
            "FINAL OUTPUT SHAPE (50, 76, 1852)\n",
            "==================================================\n"
          ]
        },
        {
          "name": "stderr",
          "output_type": "stream",
          "text": [
            "WARNING:tensorflow:Skipping full serialization of Keras layer <keras.src.layers.core.dense.Dense object at 0x7954506db190>, because it is not built.\n"
          ]
        },
        {
          "name": "stdout",
          "output_type": "stream",
          "text": [
            "==================== ENCODER ====================\n",
            "---------------------------\n",
            "ENCODER ==> OUTPUT SHAPE (None, 256)\n",
            "ENCODER ==> HIDDEN STATE SHAPE (50, 256)\n",
            "==================== DECODER ====================\n",
            "---------------------------\n",
            "FINAL OUTPUT SHAPE (None, 76, 1852)\n",
            "==================================================\n",
            "==================== ENCODER ====================\n",
            "---------------------------\n",
            "ENCODER ==> OUTPUT SHAPE (None, 256)\n",
            "ENCODER ==> HIDDEN STATE SHAPE (50, 256)\n",
            "==================== DECODER ====================\n",
            "---------------------------\n",
            "FINAL OUTPUT SHAPE (None, 76, 1852)\n",
            "==================================================\n"
          ]
        },
        {
          "name": "stderr",
          "output_type": "stream",
          "text": [
            "WARNING:absl:<__main__.Attention object at 0x7954506d99f0> has the same name 'Attention' as a built-in Keras object. Consider renaming <class '__main__.Attention'> to avoid naming conflicts when loading with `tf.keras.models.load_model`. If renaming is not possible, pass the object in the `custom_objects` parameter of the load function.\n"
          ]
        },
        {
          "name": "stdout",
          "output_type": "stream",
          "text": [
            "\b\b\b\b\b\b\b\b\b\b\b\b\b\b\b\b\b\b\b\b\b\b\b\b\b\b\b\b\b\b\b\b\b\b\b\b\b\b\b\b\b\b\b\b\b\b\b\b\b\b\b\b\b\b\b\b\b\b\b\b\b\b\b\r53/53 [==============================] - 94s 2s/step - loss: 0.6740 - val_loss: 0.8202 - lr: 0.0010\n",
            "Epoch 23/40\n",
            "53/53 [==============================] - ETA: 0s - loss: 0.6623\n",
            "Epoch 23: val_loss improved from 0.82018 to 0.81232, saving model to /content/checkpoint/\n",
            "==================== ENCODER ====================\n",
            "---------------------------\n",
            "ENCODER ==> OUTPUT SHAPE (None, 256)\n",
            "ENCODER ==> HIDDEN STATE SHAPE (50, 256)\n",
            "==================== DECODER ====================\n",
            "---------------------------\n",
            "FINAL OUTPUT SHAPE (50, 76, 1852)\n",
            "==================================================\n"
          ]
        },
        {
          "name": "stderr",
          "output_type": "stream",
          "text": [
            "WARNING:tensorflow:Skipping full serialization of Keras layer <keras.src.layers.core.dense.Dense object at 0x7954506db190>, because it is not built.\n"
          ]
        },
        {
          "name": "stdout",
          "output_type": "stream",
          "text": [
            "==================== ENCODER ====================\n",
            "---------------------------\n",
            "ENCODER ==> OUTPUT SHAPE (None, 256)\n",
            "ENCODER ==> HIDDEN STATE SHAPE (50, 256)\n",
            "==================== DECODER ====================\n",
            "---------------------------\n",
            "FINAL OUTPUT SHAPE (None, 76, 1852)\n",
            "==================================================\n",
            "==================== ENCODER ====================\n",
            "---------------------------\n",
            "ENCODER ==> OUTPUT SHAPE (None, 256)\n",
            "ENCODER ==> HIDDEN STATE SHAPE (50, 256)\n",
            "==================== DECODER ====================\n",
            "---------------------------\n",
            "FINAL OUTPUT SHAPE (None, 76, 1852)\n",
            "==================================================\n"
          ]
        },
        {
          "name": "stderr",
          "output_type": "stream",
          "text": [
            "WARNING:absl:<__main__.Attention object at 0x7954506d99f0> has the same name 'Attention' as a built-in Keras object. Consider renaming <class '__main__.Attention'> to avoid naming conflicts when loading with `tf.keras.models.load_model`. If renaming is not possible, pass the object in the `custom_objects` parameter of the load function.\n"
          ]
        },
        {
          "name": "stdout",
          "output_type": "stream",
          "text": [
            "\b\b\b\b\b\b\b\b\b\b\b\b\b\b\b\b\b\b\b\b\b\b\b\b\b\b\b\b\b\b\b\b\b\b\b\b\b\b\b\b\b\b\b\b\b\b\b\b\b\b\b\b\b\b\b\b\b\b\b\b\b\b\b\r53/53 [==============================] - 94s 2s/step - loss: 0.6623 - val_loss: 0.8123 - lr: 0.0010\n",
            "Epoch 24/40\n",
            "53/53 [==============================] - ETA: 0s - loss: 0.6518\n",
            "Epoch 24: val_loss did not improve from 0.81232\n",
            "53/53 [==============================] - 91s 2s/step - loss: 0.6518 - val_loss: 0.8170 - lr: 0.0010\n",
            "Epoch 25/40\n",
            "53/53 [==============================] - ETA: 0s - loss: 0.6405\n",
            "Epoch 25: ReduceLROnPlateau reducing learning rate to 0.000800000037997961.\n",
            "\n",
            "Epoch 25: val_loss did not improve from 0.81232\n",
            "53/53 [==============================] - 85s 2s/step - loss: 0.6405 - val_loss: 0.8135 - lr: 0.0010\n",
            "Epoch 26/40\n",
            "53/53 [==============================] - ETA: 0s - loss: 0.6269\n",
            "Epoch 26: val_loss improved from 0.81232 to 0.80824, saving model to /content/checkpoint/\n",
            "==================== ENCODER ====================\n",
            "---------------------------\n",
            "ENCODER ==> OUTPUT SHAPE (None, 256)\n",
            "ENCODER ==> HIDDEN STATE SHAPE (50, 256)\n",
            "==================== DECODER ====================\n",
            "---------------------------\n",
            "FINAL OUTPUT SHAPE (50, 76, 1852)\n",
            "==================================================\n"
          ]
        },
        {
          "name": "stderr",
          "output_type": "stream",
          "text": [
            "WARNING:tensorflow:Skipping full serialization of Keras layer <keras.src.layers.core.dense.Dense object at 0x7954506db190>, because it is not built.\n"
          ]
        },
        {
          "name": "stdout",
          "output_type": "stream",
          "text": [
            "==================== ENCODER ====================\n",
            "---------------------------\n",
            "ENCODER ==> OUTPUT SHAPE (None, 256)\n",
            "ENCODER ==> HIDDEN STATE SHAPE (50, 256)\n",
            "==================== DECODER ====================\n",
            "---------------------------\n",
            "FINAL OUTPUT SHAPE (None, 76, 1852)\n",
            "==================================================\n",
            "==================== ENCODER ====================\n",
            "---------------------------\n",
            "ENCODER ==> OUTPUT SHAPE (None, 256)\n",
            "ENCODER ==> HIDDEN STATE SHAPE (50, 256)\n",
            "==================== DECODER ====================\n",
            "---------------------------\n",
            "FINAL OUTPUT SHAPE (None, 76, 1852)\n",
            "==================================================\n"
          ]
        },
        {
          "name": "stderr",
          "output_type": "stream",
          "text": [
            "WARNING:absl:<__main__.Attention object at 0x7954506d99f0> has the same name 'Attention' as a built-in Keras object. Consider renaming <class '__main__.Attention'> to avoid naming conflicts when loading with `tf.keras.models.load_model`. If renaming is not possible, pass the object in the `custom_objects` parameter of the load function.\n"
          ]
        },
        {
          "name": "stdout",
          "output_type": "stream",
          "text": [
            "\b\b\b\b\b\b\b\b\b\b\b\b\b\b\b\b\b\b\b\b\b\b\b\b\b\b\b\b\b\b\b\b\b\b\b\b\b\b\b\b\b\b\b\b\b\b\b\b\b\b\b\b\b\b\b\b\b\b\b\b\b\b\b\r53/53 [==============================] - 95s 2s/step - loss: 0.6269 - val_loss: 0.8082 - lr: 8.0000e-04\n",
            "Epoch 27/40\n",
            "53/53 [==============================] - ETA: 0s - loss: 0.6180\n",
            "Epoch 27: val_loss did not improve from 0.80824\n",
            "53/53 [==============================] - 89s 2s/step - loss: 0.6180 - val_loss: 0.8093 - lr: 8.0000e-04\n",
            "Epoch 28/40\n",
            "53/53 [==============================] - ETA: 0s - loss: 0.6100\n",
            "Epoch 28: ReduceLROnPlateau reducing learning rate to 0.0006400000303983689.\n",
            "\n",
            "Epoch 28: val_loss did not improve from 0.80824\n",
            "53/53 [==============================] - 90s 2s/step - loss: 0.6100 - val_loss: 0.8143 - lr: 8.0000e-04\n",
            "Epoch 29/40\n",
            "53/53 [==============================] - ETA: 0s - loss: 0.5994\n",
            "Epoch 29: val_loss improved from 0.80824 to 0.80750, saving model to /content/checkpoint/\n",
            "==================== ENCODER ====================\n",
            "---------------------------\n",
            "ENCODER ==> OUTPUT SHAPE (None, 256)\n",
            "ENCODER ==> HIDDEN STATE SHAPE (50, 256)\n",
            "==================== DECODER ====================\n",
            "---------------------------\n",
            "FINAL OUTPUT SHAPE (50, 76, 1852)\n",
            "==================================================\n"
          ]
        },
        {
          "name": "stderr",
          "output_type": "stream",
          "text": [
            "WARNING:tensorflow:Skipping full serialization of Keras layer <keras.src.layers.core.dense.Dense object at 0x7954506db190>, because it is not built.\n"
          ]
        },
        {
          "name": "stdout",
          "output_type": "stream",
          "text": [
            "==================== ENCODER ====================\n",
            "---------------------------\n",
            "ENCODER ==> OUTPUT SHAPE (None, 256)\n",
            "ENCODER ==> HIDDEN STATE SHAPE (50, 256)\n",
            "==================== DECODER ====================\n",
            "---------------------------\n",
            "FINAL OUTPUT SHAPE (None, 76, 1852)\n",
            "==================================================\n",
            "==================== ENCODER ====================\n",
            "---------------------------\n",
            "ENCODER ==> OUTPUT SHAPE (None, 256)\n",
            "ENCODER ==> HIDDEN STATE SHAPE (50, 256)\n",
            "==================== DECODER ====================\n",
            "---------------------------\n",
            "FINAL OUTPUT SHAPE (None, 76, 1852)\n",
            "==================================================\n"
          ]
        },
        {
          "name": "stderr",
          "output_type": "stream",
          "text": [
            "WARNING:absl:<__main__.Attention object at 0x7954506d99f0> has the same name 'Attention' as a built-in Keras object. Consider renaming <class '__main__.Attention'> to avoid naming conflicts when loading with `tf.keras.models.load_model`. If renaming is not possible, pass the object in the `custom_objects` parameter of the load function.\n"
          ]
        },
        {
          "name": "stdout",
          "output_type": "stream",
          "text": [
            "\b\b\b\b\b\b\b\b\b\b\b\b\b\b\b\b\b\b\b\b\b\b\b\b\b\b\b\b\b\b\b\b\b\b\b\b\b\b\b\b\b\b\b\b\b\b\b\b\b\b\b\b\b\b\b\b\b\b\b\b\b\b\b\r53/53 [==============================] - 93s 2s/step - loss: 0.5994 - val_loss: 0.8075 - lr: 6.4000e-04\n",
            "Epoch 30/40\n",
            "53/53 [==============================] - ETA: 0s - loss: 0.5933\n",
            "Epoch 30: val_loss improved from 0.80750 to 0.80696, saving model to /content/checkpoint/\n",
            "==================== ENCODER ====================\n",
            "---------------------------\n",
            "ENCODER ==> OUTPUT SHAPE (None, 256)\n",
            "ENCODER ==> HIDDEN STATE SHAPE (50, 256)\n",
            "==================== DECODER ====================\n",
            "---------------------------\n",
            "FINAL OUTPUT SHAPE (50, 76, 1852)\n",
            "==================================================\n"
          ]
        },
        {
          "name": "stderr",
          "output_type": "stream",
          "text": [
            "WARNING:tensorflow:Skipping full serialization of Keras layer <keras.src.layers.core.dense.Dense object at 0x7954506db190>, because it is not built.\n"
          ]
        },
        {
          "name": "stdout",
          "output_type": "stream",
          "text": [
            "==================== ENCODER ====================\n",
            "---------------------------\n",
            "ENCODER ==> OUTPUT SHAPE (None, 256)\n",
            "ENCODER ==> HIDDEN STATE SHAPE (50, 256)\n",
            "==================== DECODER ====================\n",
            "---------------------------\n",
            "FINAL OUTPUT SHAPE (None, 76, 1852)\n",
            "==================================================\n",
            "==================== ENCODER ====================\n",
            "---------------------------\n",
            "ENCODER ==> OUTPUT SHAPE (None, 256)\n",
            "ENCODER ==> HIDDEN STATE SHAPE (50, 256)\n",
            "==================== DECODER ====================\n",
            "---------------------------\n",
            "FINAL OUTPUT SHAPE (None, 76, 1852)\n",
            "==================================================\n"
          ]
        },
        {
          "name": "stderr",
          "output_type": "stream",
          "text": [
            "WARNING:absl:<__main__.Attention object at 0x7954506d99f0> has the same name 'Attention' as a built-in Keras object. Consider renaming <class '__main__.Attention'> to avoid naming conflicts when loading with `tf.keras.models.load_model`. If renaming is not possible, pass the object in the `custom_objects` parameter of the load function.\n"
          ]
        },
        {
          "name": "stdout",
          "output_type": "stream",
          "text": [
            "\b\b\b\b\b\b\b\b\b\b\b\b\b\b\b\b\b\b\b\b\b\b\b\b\b\b\b\b\b\b\b\b\b\b\b\b\b\b\b\b\b\b\b\b\b\b\b\b\b\b\b\b\b\b\b\b\b\b\b\b\b\b\b\r53/53 [==============================] - 95s 2s/step - loss: 0.5933 - val_loss: 0.8070 - lr: 6.4000e-04\n",
            "Epoch 31/40\n",
            "53/53 [==============================] - ETA: 0s - loss: 0.5887\n",
            "Epoch 31: val_loss did not improve from 0.80696\n",
            "53/53 [==============================] - 89s 2s/step - loss: 0.5887 - val_loss: 0.8083 - lr: 6.4000e-04\n",
            "Epoch 32/40\n",
            "53/53 [==============================] - ETA: 0s - loss: 0.5823\n",
            "Epoch 32: ReduceLROnPlateau reducing learning rate to 0.0005120000336319208.\n",
            "\n",
            "Epoch 32: val_loss did not improve from 0.80696\n",
            "53/53 [==============================] - 84s 2s/step - loss: 0.5823 - val_loss: 0.8086 - lr: 6.4000e-04\n",
            "Epoch 33/40\n",
            "53/53 [==============================] - ETA: 0s - loss: 0.5755\n",
            "Epoch 33: val_loss did not improve from 0.80696\n",
            "53/53 [==============================] - 88s 2s/step - loss: 0.5755 - val_loss: 0.8112 - lr: 5.1200e-04\n",
            "Epoch 34/40\n",
            "53/53 [==============================] - ETA: 0s - loss: 0.5714\n",
            "Epoch 34: val_loss improved from 0.80696 to 0.80541, saving model to /content/checkpoint/\n",
            "==================== ENCODER ====================\n",
            "---------------------------\n",
            "ENCODER ==> OUTPUT SHAPE (None, 256)\n",
            "ENCODER ==> HIDDEN STATE SHAPE (50, 256)\n",
            "==================== DECODER ====================\n",
            "---------------------------\n",
            "FINAL OUTPUT SHAPE (50, 76, 1852)\n",
            "==================================================\n"
          ]
        },
        {
          "name": "stderr",
          "output_type": "stream",
          "text": [
            "WARNING:tensorflow:Skipping full serialization of Keras layer <keras.src.layers.core.dense.Dense object at 0x7954506db190>, because it is not built.\n"
          ]
        },
        {
          "name": "stdout",
          "output_type": "stream",
          "text": [
            "==================== ENCODER ====================\n",
            "---------------------------\n",
            "ENCODER ==> OUTPUT SHAPE (None, 256)\n",
            "ENCODER ==> HIDDEN STATE SHAPE (50, 256)\n",
            "==================== DECODER ====================\n",
            "---------------------------\n",
            "FINAL OUTPUT SHAPE (None, 76, 1852)\n",
            "==================================================\n",
            "==================== ENCODER ====================\n",
            "---------------------------\n",
            "ENCODER ==> OUTPUT SHAPE (None, 256)\n",
            "ENCODER ==> HIDDEN STATE SHAPE (50, 256)\n",
            "==================== DECODER ====================\n",
            "---------------------------\n",
            "FINAL OUTPUT SHAPE (None, 76, 1852)\n",
            "==================================================\n"
          ]
        },
        {
          "name": "stderr",
          "output_type": "stream",
          "text": [
            "WARNING:absl:<__main__.Attention object at 0x7954506d99f0> has the same name 'Attention' as a built-in Keras object. Consider renaming <class '__main__.Attention'> to avoid naming conflicts when loading with `tf.keras.models.load_model`. If renaming is not possible, pass the object in the `custom_objects` parameter of the load function.\n"
          ]
        },
        {
          "name": "stdout",
          "output_type": "stream",
          "text": [
            "\b\b\b\b\b\b\b\b\b\b\b\b\b\b\b\b\b\b\b\b\b\b\b\b\b\b\b\b\b\b\b\b\b\b\b\b\b\b\b\b\b\b\b\b\b\b\b\b\b\b\b\b\b\b\b\b\b\b\b\b\b\b\b\r53/53 [==============================] - 95s 2s/step - loss: 0.5714 - val_loss: 0.8054 - lr: 5.1200e-04\n",
            "Epoch 35/40\n",
            "53/53 [==============================] - ETA: 0s - loss: 0.5667\n",
            "Epoch 35: val_loss did not improve from 0.80541\n",
            "53/53 [==============================] - 90s 2s/step - loss: 0.5667 - val_loss: 0.8063 - lr: 5.1200e-04\n",
            "Epoch 36/40\n",
            "53/53 [==============================] - ETA: 0s - loss: 0.5627\n",
            "Epoch 36: val_loss improved from 0.80541 to 0.80496, saving model to /content/checkpoint/\n",
            "==================== ENCODER ====================\n",
            "---------------------------\n",
            "ENCODER ==> OUTPUT SHAPE (None, 256)\n",
            "ENCODER ==> HIDDEN STATE SHAPE (50, 256)\n",
            "==================== DECODER ====================\n",
            "---------------------------\n",
            "FINAL OUTPUT SHAPE (50, 76, 1852)\n",
            "==================================================\n"
          ]
        },
        {
          "name": "stderr",
          "output_type": "stream",
          "text": [
            "WARNING:tensorflow:Skipping full serialization of Keras layer <keras.src.layers.core.dense.Dense object at 0x7954506db190>, because it is not built.\n"
          ]
        },
        {
          "name": "stdout",
          "output_type": "stream",
          "text": [
            "==================== ENCODER ====================\n",
            "---------------------------\n",
            "ENCODER ==> OUTPUT SHAPE (None, 256)\n",
            "ENCODER ==> HIDDEN STATE SHAPE (50, 256)\n",
            "==================== DECODER ====================\n",
            "---------------------------\n",
            "FINAL OUTPUT SHAPE (None, 76, 1852)\n",
            "==================================================\n",
            "==================== ENCODER ====================\n",
            "---------------------------\n",
            "ENCODER ==> OUTPUT SHAPE (None, 256)\n",
            "ENCODER ==> HIDDEN STATE SHAPE (50, 256)\n",
            "==================== DECODER ====================\n",
            "---------------------------\n",
            "FINAL OUTPUT SHAPE (None, 76, 1852)\n",
            "==================================================\n"
          ]
        },
        {
          "name": "stderr",
          "output_type": "stream",
          "text": [
            "WARNING:absl:<__main__.Attention object at 0x7954506d99f0> has the same name 'Attention' as a built-in Keras object. Consider renaming <class '__main__.Attention'> to avoid naming conflicts when loading with `tf.keras.models.load_model`. If renaming is not possible, pass the object in the `custom_objects` parameter of the load function.\n"
          ]
        },
        {
          "name": "stdout",
          "output_type": "stream",
          "text": [
            "\b\b\b\b\b\b\b\b\b\b\b\b\b\b\b\b\b\b\b\b\b\b\b\b\b\b\b\b\b\b\b\b\b\b\b\b\b\b\b\b\b\b\b\b\b\b\b\b\b\b\b\b\b\b\b\b\b\b\b\b\b\b\b\r53/53 [==============================] - 95s 2s/step - loss: 0.5627 - val_loss: 0.8050 - lr: 5.1200e-04\n",
            "Epoch 37/40\n",
            "53/53 [==============================] - ETA: 0s - loss: 0.5587\n",
            "Epoch 37: val_loss improved from 0.80496 to 0.80457, saving model to /content/checkpoint/\n",
            "==================== ENCODER ====================\n",
            "---------------------------\n",
            "ENCODER ==> OUTPUT SHAPE (None, 256)\n",
            "ENCODER ==> HIDDEN STATE SHAPE (50, 256)\n",
            "==================== DECODER ====================\n",
            "---------------------------\n",
            "FINAL OUTPUT SHAPE (50, 76, 1852)\n",
            "==================================================\n"
          ]
        },
        {
          "name": "stderr",
          "output_type": "stream",
          "text": [
            "WARNING:tensorflow:Skipping full serialization of Keras layer <keras.src.layers.core.dense.Dense object at 0x7954506db190>, because it is not built.\n"
          ]
        },
        {
          "name": "stdout",
          "output_type": "stream",
          "text": [
            "==================== ENCODER ====================\n",
            "---------------------------\n",
            "ENCODER ==> OUTPUT SHAPE (None, 256)\n",
            "ENCODER ==> HIDDEN STATE SHAPE (50, 256)\n",
            "==================== DECODER ====================\n",
            "---------------------------\n",
            "FINAL OUTPUT SHAPE (None, 76, 1852)\n",
            "==================================================\n",
            "==================== ENCODER ====================\n",
            "---------------------------\n",
            "ENCODER ==> OUTPUT SHAPE (None, 256)\n",
            "ENCODER ==> HIDDEN STATE SHAPE (50, 256)\n",
            "==================== DECODER ====================\n",
            "---------------------------\n",
            "FINAL OUTPUT SHAPE (None, 76, 1852)\n",
            "==================================================\n"
          ]
        },
        {
          "name": "stderr",
          "output_type": "stream",
          "text": [
            "WARNING:absl:<__main__.Attention object at 0x7954506d99f0> has the same name 'Attention' as a built-in Keras object. Consider renaming <class '__main__.Attention'> to avoid naming conflicts when loading with `tf.keras.models.load_model`. If renaming is not possible, pass the object in the `custom_objects` parameter of the load function.\n"
          ]
        },
        {
          "name": "stdout",
          "output_type": "stream",
          "text": [
            "\b\b\b\b\b\b\b\b\b\b\b\b\b\b\b\b\b\b\b\b\b\b\b\b\b\b\b\b\b\b\b\b\b\b\b\b\b\b\b\b\b\b\b\b\b\b\b\b\b\b\b\b\b\b\b\b\b\b\b\b\b\b\b\r53/53 [==============================] - 96s 2s/step - loss: 0.5587 - val_loss: 0.8046 - lr: 5.1200e-04\n",
            "Epoch 38/40\n",
            "53/53 [==============================] - ETA: 0s - loss: 0.5560\n",
            "Epoch 38: val_loss did not improve from 0.80457\n",
            "53/53 [==============================] - 89s 2s/step - loss: 0.5560 - val_loss: 0.8066 - lr: 5.1200e-04\n",
            "Epoch 39/40\n",
            "53/53 [==============================] - ETA: 0s - loss: 0.5510\n",
            "Epoch 39: val_loss improved from 0.80457 to 0.80395, saving model to /content/checkpoint/\n",
            "==================== ENCODER ====================\n",
            "---------------------------\n",
            "ENCODER ==> OUTPUT SHAPE (None, 256)\n",
            "ENCODER ==> HIDDEN STATE SHAPE (50, 256)\n",
            "==================== DECODER ====================\n",
            "---------------------------\n",
            "FINAL OUTPUT SHAPE (50, 76, 1852)\n",
            "==================================================\n"
          ]
        },
        {
          "name": "stderr",
          "output_type": "stream",
          "text": [
            "WARNING:tensorflow:Skipping full serialization of Keras layer <keras.src.layers.core.dense.Dense object at 0x7954506db190>, because it is not built.\n"
          ]
        },
        {
          "name": "stdout",
          "output_type": "stream",
          "text": [
            "==================== ENCODER ====================\n",
            "---------------------------\n",
            "ENCODER ==> OUTPUT SHAPE (None, 256)\n",
            "ENCODER ==> HIDDEN STATE SHAPE (50, 256)\n",
            "==================== DECODER ====================\n",
            "---------------------------\n",
            "FINAL OUTPUT SHAPE (None, 76, 1852)\n",
            "==================================================\n",
            "==================== ENCODER ====================\n",
            "---------------------------\n",
            "ENCODER ==> OUTPUT SHAPE (None, 256)\n",
            "ENCODER ==> HIDDEN STATE SHAPE (50, 256)\n",
            "==================== DECODER ====================\n",
            "---------------------------\n",
            "FINAL OUTPUT SHAPE (None, 76, 1852)\n",
            "==================================================\n"
          ]
        },
        {
          "name": "stderr",
          "output_type": "stream",
          "text": [
            "WARNING:absl:<__main__.Attention object at 0x7954506d99f0> has the same name 'Attention' as a built-in Keras object. Consider renaming <class '__main__.Attention'> to avoid naming conflicts when loading with `tf.keras.models.load_model`. If renaming is not possible, pass the object in the `custom_objects` parameter of the load function.\n"
          ]
        },
        {
          "name": "stdout",
          "output_type": "stream",
          "text": [
            "\b\b\b\b\b\b\b\b\b\b\b\b\b\b\b\b\b\b\b\b\b\b\b\b\b\b\b\b\b\b\b\b\b\b\b\b\b\b\b\b\b\b\b\b\b\b\b\b\b\b\b\b\b\b\b\b\b\b\b\b\b\b\b\r53/53 [==============================] - 95s 2s/step - loss: 0.5510 - val_loss: 0.8039 - lr: 5.1200e-04\n",
            "Epoch 40/40\n",
            "53/53 [==============================] - ETA: 0s - loss: 0.5461\n",
            "Epoch 40: val_loss did not improve from 0.80395\n",
            "53/53 [==============================] - 89s 2s/step - loss: 0.5461 - val_loss: 0.8078 - lr: 5.1200e-04\n"
          ]
        },
        {
          "data": {
            "text/plain": [
              "<keras.src.callbacks.History at 0x795450763880>"
            ]
          },
          "execution_count": 35,
          "metadata": {},
          "output_type": "execute_result"
        }
      ],
      "source": [
        "model_1.fit([train_inp,dec_inp ],dec_op ,validation_data= ([test_inp, dec_inp_cv],dec_op_cv),batch_size= 50,epochs  = 40,callbacks=[reduce_lr,model_checkpoint_callback] , shuffle=True)"
      ]
    },
    {
      "cell_type": "code",
      "execution_count": null,
      "metadata": {
        "colab": {
          "base_uri": "https://localhost:8080/"
        },
        "id": "3-VQByLeVl9D",
        "outputId": "f0e7533c-e192-4487-d0f8-3ed351226759"
      },
      "outputs": [
        {
          "data": {
            "text/plain": [
              "<tensorflow.python.checkpoint.checkpoint.CheckpointLoadStatus at 0x7a448711f760>"
            ]
          },
          "execution_count": 34,
          "metadata": {},
          "output_type": "execute_result"
        }
      ],
      "source": [
        "model_1.load_weights(checkpoint_filepath)"
      ]
    },
    {
      "cell_type": "code",
      "execution_count": null,
      "metadata": {
        "id": "V_em3VEeWAfm"
      },
      "outputs": [],
      "source": [
        "def beam(sentence):\n",
        "  \"\"\" Bu fonksiyon beam search kullanarak cumleyi tahmin eder \"\"\"\n",
        "\n",
        "  initial_state=model_1.layers[0].initialize_states(1)\n",
        "  encoder_output= model_1.layers[0](sentence) #başlangıç cümlesi encodera verilir\n",
        "  result = ''\n",
        "\n",
        "  sequences = [['<start>' ,initial_state, 0]] #Her dizi, '<start>' tokenı, başlangıç durumu ve başlangıç skoruyla (0) başlar.\n",
        "\n",
        "  decoder_hidden_state = initial_state\n",
        "\n",
        "  #cur_vec = np.ones((1, 1)) * imp2['<start>']\n",
        "  #cur_vec = np.array([[1]])\n",
        "  finished_seq = []\n",
        "  beam_width = 3 #Beam Search sırasında tutulacak en iyi seçeneklerin sayısını belirtir.\n",
        "\n",
        "  for i in range(76): # Cümlenin maksimum uzunluğuna kadar döner\n",
        "    all_candidates = [] #O anki beam'de tutulan tüm aday cümleler ve skorları saklanır.\n",
        "    new_seq = []\n",
        "    for s in sequences:\n",
        "\n",
        "      cur_vec = np.reshape(imp2[s[0].split(\" \")[-1]],(1,1))\n",
        "      decoder_hidden_state = s[1]\n",
        "      op,hs,attention_weights,context_vector = model_1.layers[1].onestep(cur_vec, encoder_output, decoder_hidden_state) #Her bir beam'deki son token için yeni tokenlar tahmin edilir,\n",
        "      op = tf.nn.softmax(op) #softmax uygulanır\n",
        "      top3 = np.argsort(op).flatten()[-beam_width:] #en yüksek olasılıklı tokenlar seçilir\n",
        "      for t in top3: #Yeni tahmin edilen tokenlar mevcut cümleye eklenir ve yeni skorlara göre aday cümleler güncellenir.\n",
        "\n",
        "         candidates = [s[0] + ' '+ imp1[t], hs,s[2]-np.log(np.array(op).flatten()[t])]\n",
        "         all_candidates.append(candidates)\n",
        "    sequences = sorted(all_candidates, key = lambda l: l[2])[:beam_width]\n",
        "\n",
        "    count = 0\n",
        "    for s1 in sequences:\n",
        "      if s1[0].split(\" \")[-1] == '<end>':\n",
        "\n",
        "\n",
        "        s1[2] = s1[2]/len(s1[0])   # normalized\n",
        "        finished_seq.append([s1[0], s1[1],s1[2]])\n",
        "        count+=1\n",
        "      else:\n",
        "\n",
        "        new_seq.append([s1[0], s1[1],s1[2]])\n",
        "\n",
        "    beam_width -= count\n",
        "    sequences = new_seq\n",
        "    if not sequences:\n",
        "      break\n",
        "    else:\n",
        "      continue\n",
        "\n",
        "  if len(finished_seq) >0:\n",
        "    sequences = finished_seq[-1]\n",
        "    return sequences[0]\n",
        "  else:\n",
        "    return new_seq[-1][0]"
      ]
    },
    {
      "cell_type": "code",
      "execution_count": null,
      "metadata": {
        "colab": {
          "base_uri": "https://localhost:8080/"
        },
        "id": "PF0FLvNaWC8B",
        "outputId": "5c9cc725-d3f4-4551-8418-678bebe76b69"
      },
      "outputs": [
        {
          "data": {
            "text/plain": [
              "Index(['patient_id', 'image1', 'image2', 'findings', 'image_features',\n",
              "       'findings_total', 'dec_ip', 'dec_op'],\n",
              "      dtype='object')"
            ]
          },
          "execution_count": 36,
          "metadata": {},
          "output_type": "execute_result"
        }
      ],
      "source": [
        "data.columns"
      ]
    },
    {
      "cell_type": "code",
      "execution_count": null,
      "metadata": {
        "colab": {
          "base_uri": "https://localhost:8080/",
          "height": 1000
        },
        "id": "MqXgz-lPWF_2",
        "outputId": "724fd50b-b1d4-4056-82be-cbdb6866674f"
      },
      "outputs": [
        {
          "name": "stdout",
          "output_type": "stream",
          "text": [
            "Original Sentence is :  <start> both lungs are clear and epanded. heart and mediastinum normal.\n",
            "Predicted Sentence is :  <start> the lungs are clear effusions cardiomegaly. no evidence of focal acute pneumothora or pleural effusion. specifically mediastinal airspace is thoracic seen. osseous structures of the soft are mild consolidation upper there is no consolidation unremarkable. distal contour. <end>\n"
          ]
        },
        {
          "data": {
            "image/png": "[encoded data removed]",
            "text/plain": [
              "<PIL.Image.Image image mode=RGB size=512x488>"
            ]
          },
          "metadata": {},
          "output_type": "display_data"
        },
        {
          "data": {
            "image/png": "[encoded data removed]",
            "text/plain": [
              "<PIL.Image.Image image mode=RGB size=512x601>"
            ]
          },
          "metadata": {},
          "output_type": "display_data"
        }
      ],
      "source": [
        "num = 1 #random test sample\n",
        "im_o = np.vstack(X_test[:,4][num]).astype(float)\n",
        "tex_o = X_test[:,6][num]\n",
        "\n",
        "print(\"Original Sentence is : \" , tex_o)\n",
        "print(\"Predicted Sentence is : \",beam(im_o))\n",
        "img = cv2.imread(X_test[:,1][num], cv2.IMREAD_UNCHANGED)\n",
        "cv2_imshow(img)\n",
        "img = cv2.imread(X_test[:,2][num], cv2.IMREAD_UNCHANGED)\n",
        "cv2_imshow(img)"
      ]
    },
    {
      "cell_type": "code",
      "execution_count": null,
      "metadata": {
        "id": "4USiUDGpZJNR"
      },
      "outputs": [],
      "source": [
        "from tensorflow.keras.applications.densenet import preprocess_input\n",
        "from skimage.transform import resize\n",
        "\n",
        "def load_image(img_name):\n",
        "  \"\"\"Loads image in array format\"\"\"\n",
        "\n",
        "  image = Image.open(img_name)\n",
        "  X = np.asarray(image.convert(\"RGB\"))\n",
        "  X = np.asarray(X)\n",
        "  X = preprocess_input(X)\n",
        "  X = resize(X, (224,224,3))\n",
        "  X = np.expand_dims(X, axis=0)\n",
        "  X = np.asarray(X)\n",
        "\n",
        "  return X"
      ]
    },
    {
      "cell_type": "code",
      "execution_count": null,
      "metadata": {
        "colab": {
          "base_uri": "https://localhost:8080/",
          "height": 104
        },
        "id": "BFWKdruWZMzq",
        "outputId": "35f58118-52f2-4e84-9e50-53192509d8b8"
      },
      "outputs": [
        {
          "name": "stderr",
          "output_type": "stream",
          "text": [
            "Downloading...\n",
            "From: https://drive.google.com/uc?id=19BllaOvs2x5PLV_vlWMy4i8LapLb2j6b\n",
            "To: /content/chexnet.h5\n",
            "100%|██████████| 29.1M/29.1M [00:00<00:00, 191MB/s]\n"
          ]
        },
        {
          "data": {
            "application/vnd.google.colaboratory.intrinsic+json": {
              "type": "string"
            },
            "text/plain": [
              "'chexnet.h5'"
            ]
          },
          "execution_count": 39,
          "metadata": {},
          "output_type": "execute_result"
        }
      ],
      "source": [
        "url = 'https://drive.google.com/uc?id=19BllaOvs2x5PLV_vlWMy4i8LapLb2j6b'\n",
        "output = 'chexnet.h5'\n",
        "gdown.download(url, output, quiet=False)"
      ]
    },
    {
      "cell_type": "code",
      "execution_count": null,
      "metadata": {
        "id": "L9POyjZYZO6x"
      },
      "outputs": [],
      "source": [
        "chexnet = DenseNet121(weights=cwd+'/chexnet.h5', classes = 14,input_shape=(224,224,3))\n",
        "model = Model(chexnet.input, chexnet.layers[-2].output)\n",
        "\n",
        "\n",
        "def image_extractor(image_name):\n",
        "  i1 = load_image(image_name)\n",
        "  img1_features = model.predict(i1)\n",
        "  img1_features = np.vstack(img1_features).astype(float)\n",
        "\n",
        "  img2_features = model.predict(i1)\n",
        "  img2_features = np.vstack(img2_features).astype(float)\n",
        "\n",
        "  conc = np.concatenate((img1_features, img2_features), axis=1)\n",
        "  return conc"
      ]
    },
    {
      "cell_type": "code",
      "execution_count": null,
      "metadata": {
        "colab": {
          "base_uri": "https://localhost:8080/"
        },
        "id": "KYs3LsWZa0Pc",
        "outputId": "dd288885-5b3d-4c5f-aecb-731c5f308a03"
      },
      "outputs": [
        {
          "name": "stdout",
          "output_type": "stream",
          "text": [
            "Collecting fastapi\n",
            "  Downloading fastapi-0.111.0-py3-none-any.whl (91 kB)\n",
            "\u001b[?25l     \u001b[90m━━━━━━━━━━━━━━━━━━━━━━━━━━━━━━━━━━━━━━━━\u001b[0m \u001b[32m0.0/92.0 kB\u001b[0m \u001b[31m?\u001b[0m eta \u001b[36m-:--:--\u001b[0m\r\u001b[2K     \u001b[90m━━━━━━━━━━━━━━━━━━━━━━━━━━━━━━━━━━━━━━━━\u001b[0m \u001b[32m92.0/92.0 kB\u001b[0m \u001b[31m2.7 MB/s\u001b[0m eta \u001b[36m0:00:00\u001b[0m\n",
            "\u001b[?25hRequirement already satisfied: nest-asyncio in /usr/local/lib/python3.10/dist-packages (1.6.0)\n",
            "Collecting pyngrok\n",
            "  Downloading pyngrok-7.1.6-py3-none-any.whl (22 kB)\n",
            "Collecting uvicorn\n",
            "  Downloading uvicorn-0.30.1-py3-none-any.whl (62 kB)\n",
            "\u001b[2K     \u001b[90m━━━━━━━━━━━━━━━━━━━━━━━━━━━━━━━━━━━━━━━━\u001b[0m \u001b[32m62.4/62.4 kB\u001b[0m \u001b[31m7.8 MB/s\u001b[0m eta \u001b[36m0:00:00\u001b[0m\n",
            "\u001b[?25hCollecting starlette<0.38.0,>=0.37.2 (from fastapi)\n",
            "  Downloading starlette-0.37.2-py3-none-any.whl (71 kB)\n",
            "\u001b[2K     \u001b[90m━━━━━━━━━━━━━━━━━━━━━━━━━━━━━━━━━━━━━━━━\u001b[0m \u001b[32m71.9/71.9 kB\u001b[0m \u001b[31m8.7 MB/s\u001b[0m eta \u001b[36m0:00:00\u001b[0m\n",
            "\u001b[?25hRequirement already satisfied: pydantic!=1.8,!=1.8.1,!=2.0.0,!=2.0.1,!=2.1.0,<3.0.0,>=1.7.4 in /usr/local/lib/python3.10/dist-packages (from fastapi) (2.7.1)\n",
            "Requirement already satisfied: typing-extensions>=4.8.0 in /usr/local/lib/python3.10/dist-packages (from fastapi) (4.11.0)\n",
            "Collecting fastapi-cli>=0.0.2 (from fastapi)\n",
            "  Downloading fastapi_cli-0.0.4-py3-none-any.whl (9.5 kB)\n",
            "Collecting httpx>=0.23.0 (from fastapi)\n",
            "  Downloading httpx-0.27.0-py3-none-any.whl (75 kB)\n",
            "\u001b[2K     \u001b[90m━━━━━━━━━━━━━━━━━━━━━━━━━━━━━━━━━━━━━━━━\u001b[0m \u001b[32m75.6/75.6 kB\u001b[0m \u001b[31m10.3 MB/s\u001b[0m eta \u001b[36m0:00:00\u001b[0m\n",
            "\u001b[?25hRequirement already satisfied: jinja2>=2.11.2 in /usr/local/lib/python3.10/dist-packages (from fastapi) (3.1.4)\n",
            "Collecting python-multipart>=0.0.7 (from fastapi)\n",
            "  Downloading python_multipart-0.0.9-py3-none-any.whl (22 kB)\n",
            "Collecting ujson!=4.0.2,!=4.1.0,!=4.2.0,!=4.3.0,!=5.0.0,!=5.1.0,>=4.0.1 (from fastapi)\n",
            "  Downloading ujson-5.10.0-cp310-cp310-manylinux_2_17_x86_64.manylinux2014_x86_64.whl (53 kB)\n",
            "\u001b[2K     \u001b[90m━━━━━━━━━━━━━━━━━━━━━━━━━━━━━━━━━━━━━━━━\u001b[0m \u001b[32m53.6/53.6 kB\u001b[0m \u001b[31m6.8 MB/s\u001b[0m eta \u001b[36m0:00:00\u001b[0m\n",
            "\u001b[?25hCollecting orjson>=3.2.1 (from fastapi)\n",
            "  Downloading orjson-3.10.3-cp310-cp310-manylinux_2_17_x86_64.manylinux2014_x86_64.whl (142 kB)\n",
            "\u001b[2K     \u001b[90m━━━━━━━━━━━━━━━━━━━━━━━━━━━━━━━━━━━━━━━━\u001b[0m \u001b[32m142.5/142.5 kB\u001b[0m \u001b[31m19.8 MB/s\u001b[0m eta \u001b[36m0:00:00\u001b[0m\n",
            "\u001b[?25hCollecting email_validator>=2.0.0 (from fastapi)\n",
            "  Downloading email_validator-2.1.1-py3-none-any.whl (30 kB)\n",
            "Requirement already satisfied: PyYAML>=5.1 in /usr/local/lib/python3.10/dist-packages (from pyngrok) (6.0.1)\n",
            "Requirement already satisfied: click>=7.0 in /usr/local/lib/python3.10/dist-packages (from uvicorn) (8.1.7)\n",
            "Collecting h11>=0.8 (from uvicorn)\n",
            "  Downloading h11-0.14.0-py3-none-any.whl (58 kB)\n",
            "\u001b[2K     \u001b[90m━━━━━━━━━━━━━━━━━━━━━━━━━━━━━━━━━━━━━━━━\u001b[0m \u001b[32m58.3/58.3 kB\u001b[0m \u001b[31m8.0 MB/s\u001b[0m eta \u001b[36m0:00:00\u001b[0m\n",
            "\u001b[?25hCollecting dnspython>=2.0.0 (from email_validator>=2.0.0->fastapi)\n",
            "  Downloading dnspython-2.6.1-py3-none-any.whl (307 kB)\n",
            "\u001b[2K     \u001b[90m━━━━━━━━━━━━━━━━━━━━━━━━━━━━━━━━━━━━━━━━\u001b[0m \u001b[32m307.7/307.7 kB\u001b[0m \u001b[31m33.0 MB/s\u001b[0m eta \u001b[36m0:00:00\u001b[0m\n",
            "\u001b[?25hRequirement already satisfied: idna>=2.0.0 in /usr/local/lib/python3.10/dist-packages (from email_validator>=2.0.0->fastapi) (3.7)\n",
            "Collecting typer>=0.12.3 (from fastapi-cli>=0.0.2->fastapi)\n",
            "  Downloading typer-0.12.3-py3-none-any.whl (47 kB)\n",
            "\u001b[2K     \u001b[90m━━━━━━━━━━━━━━━━━━━━━━━━━━━━━━━━━━━━━━━━\u001b[0m \u001b[32m47.2/47.2 kB\u001b[0m \u001b[31m6.6 MB/s\u001b[0m eta \u001b[36m0:00:00\u001b[0m\n",
            "\u001b[?25hRequirement already satisfied: anyio in /usr/local/lib/python3.10/dist-packages (from httpx>=0.23.0->fastapi) (3.7.1)\n",
            "Requirement already satisfied: certifi in /usr/local/lib/python3.10/dist-packages (from httpx>=0.23.0->fastapi) (2024.2.2)\n",
            "Collecting httpcore==1.* (from httpx>=0.23.0->fastapi)\n",
            "  Downloading httpcore-1.0.5-py3-none-any.whl (77 kB)\n",
            "\u001b[2K     \u001b[90m━━━━━━━━━━━━━━━━━━━━━━━━━━━━━━━━━━━━━━━━\u001b[0m \u001b[32m77.9/77.9 kB\u001b[0m \u001b[31m9.1 MB/s\u001b[0m eta \u001b[36m0:00:00\u001b[0m\n",
            "\u001b[?25hRequirement already satisfied: sniffio in /usr/local/lib/python3.10/dist-packages (from httpx>=0.23.0->fastapi) (1.3.1)\n",
            "Requirement already satisfied: MarkupSafe>=2.0 in /usr/local/lib/python3.10/dist-packages (from jinja2>=2.11.2->fastapi) (2.1.5)\n",
            "Requirement already satisfied: annotated-types>=0.4.0 in /usr/local/lib/python3.10/dist-packages (from pydantic!=1.8,!=1.8.1,!=2.0.0,!=2.0.1,!=2.1.0,<3.0.0,>=1.7.4->fastapi) (0.7.0)\n",
            "Requirement already satisfied: pydantic-core==2.18.2 in /usr/local/lib/python3.10/dist-packages (from pydantic!=1.8,!=1.8.1,!=2.0.0,!=2.0.1,!=2.1.0,<3.0.0,>=1.7.4->fastapi) (2.18.2)\n",
            "Collecting httptools>=0.5.0 (from uvicorn)\n",
            "  Downloading httptools-0.6.1-cp310-cp310-manylinux_2_5_x86_64.manylinux1_x86_64.manylinux_2_17_x86_64.manylinux2014_x86_64.whl (341 kB)\n",
            "\u001b[2K     \u001b[90m━━━━━━━━━━━━━━━━━━━━━━━━━━━━━━━━━━━━━━━━\u001b[0m \u001b[32m341.4/341.4 kB\u001b[0m \u001b[31m32.5 MB/s\u001b[0m eta \u001b[36m0:00:00\u001b[0m\n",
            "\u001b[?25hCollecting python-dotenv>=0.13 (from uvicorn)\n",
            "  Downloading python_dotenv-1.0.1-py3-none-any.whl (19 kB)\n",
            "Collecting uvloop!=0.15.0,!=0.15.1,>=0.14.0 (from uvicorn)\n",
            "  Downloading uvloop-0.19.0-cp310-cp310-manylinux_2_17_x86_64.manylinux2014_x86_64.whl (3.4 MB)\n",
            "\u001b[2K     \u001b[90m━━━━━━━━━━━━━━━━━━━━━━━━━━━━━━━━━━━━━━━━\u001b[0m \u001b[32m3.4/3.4 MB\u001b[0m \u001b[31m63.4 MB/s\u001b[0m eta \u001b[36m0:00:00\u001b[0m\n",
            "\u001b[?25hCollecting watchfiles>=0.13 (from uvicorn)\n",
            "  Downloading watchfiles-0.22.0-cp310-cp310-manylinux_2_17_x86_64.manylinux2014_x86_64.whl (1.2 MB)\n",
            "\u001b[2K     \u001b[90m━━━━━━━━━━━━━━━━━━━━━━━━━━━━━━━━━━━━━━━━\u001b[0m \u001b[32m1.2/1.2 MB\u001b[0m \u001b[31m68.5 MB/s\u001b[0m eta \u001b[36m0:00:00\u001b[0m\n",
            "\u001b[?25hCollecting websockets>=10.4 (from uvicorn)\n",
            "  Downloading websockets-12.0-cp310-cp310-manylinux_2_5_x86_64.manylinux1_x86_64.manylinux_2_17_x86_64.manylinux2014_x86_64.whl (130 kB)\n",
            "\u001b[2K     \u001b[90m━━━━━━━━━━━━━━━━━━━━━━━━━━━━━━━━━━━━━━━━\u001b[0m \u001b[32m130.2/130.2 kB\u001b[0m \u001b[31m13.6 MB/s\u001b[0m eta \u001b[36m0:00:00\u001b[0m\n",
            "\u001b[?25hRequirement already satisfied: exceptiongroup in /usr/local/lib/python3.10/dist-packages (from anyio->httpx>=0.23.0->fastapi) (1.2.1)\n",
            "Collecting shellingham>=1.3.0 (from typer>=0.12.3->fastapi-cli>=0.0.2->fastapi)\n",
            "  Downloading shellingham-1.5.4-py2.py3-none-any.whl (9.8 kB)\n",
            "Requirement already satisfied: rich>=10.11.0 in /usr/local/lib/python3.10/dist-packages (from typer>=0.12.3->fastapi-cli>=0.0.2->fastapi) (13.7.1)\n",
            "Requirement already satisfied: markdown-it-py>=2.2.0 in /usr/local/lib/python3.10/dist-packages (from rich>=10.11.0->typer>=0.12.3->fastapi-cli>=0.0.2->fastapi) (3.0.0)\n",
            "Requirement already satisfied: pygments<3.0.0,>=2.13.0 in /usr/local/lib/python3.10/dist-packages (from rich>=10.11.0->typer>=0.12.3->fastapi-cli>=0.0.2->fastapi) (2.16.1)\n",
            "Requirement already satisfied: mdurl~=0.1 in /usr/local/lib/python3.10/dist-packages (from markdown-it-py>=2.2.0->rich>=10.11.0->typer>=0.12.3->fastapi-cli>=0.0.2->fastapi) (0.1.2)\n",
            "Installing collected packages: websockets, uvloop, ujson, shellingham, python-multipart, python-dotenv, pyngrok, orjson, httptools, h11, dnspython, watchfiles, uvicorn, starlette, httpcore, email_validator, typer, httpx, fastapi-cli, fastapi\n",
            "  Attempting uninstall: typer\n",
            "    Found existing installation: typer 0.9.4\n",
            "    Uninstalling typer-0.9.4:\n",
            "      Successfully uninstalled typer-0.9.4\n",
            "\u001b[31mERROR: pip's dependency resolver does not currently take into account all the packages that are installed. This behaviour is the source of the following dependency conflicts.\n",
            "spacy 3.7.4 requires typer<0.10.0,>=0.3.0, but you have typer 0.12.3 which is incompatible.\n",
            "weasel 0.3.4 requires typer<0.10.0,>=0.3.0, but you have typer 0.12.3 which is incompatible.\u001b[0m\u001b[31m\n",
            "\u001b[0mSuccessfully installed dnspython-2.6.1 email_validator-2.1.1 fastapi-0.111.0 fastapi-cli-0.0.4 h11-0.14.0 httpcore-1.0.5 httptools-0.6.1 httpx-0.27.0 orjson-3.10.3 pyngrok-7.1.6 python-dotenv-1.0.1 python-multipart-0.0.9 shellingham-1.5.4 starlette-0.37.2 typer-0.12.3 ujson-5.10.0 uvicorn-0.30.1 uvloop-0.19.0 watchfiles-0.22.0 websockets-12.0\n"
          ]
        }
      ],
      "source": [
        "!pip install fastapi nest-asyncio pyngrok uvicorn"
      ]
    },
    {
      "cell_type": "code",
      "execution_count": null,
      "metadata": {
        "colab": {
          "base_uri": "https://localhost:8080/"
        },
        "id": "l_bAkDPMa6an",
        "outputId": "bfd04fc1-c628-4799-8f63-d455b3067410"
      },
      "outputs": [
        {
          "name": "stdout",
          "output_type": "stream",
          "text": [
            "Authtoken saved to configuration file: /root/.config/ngrok/ngrok.yml\n"
          ]
        }
      ],
      "source": [
        "!ngrok authtoken 2h0Xb9TkE2GXLj7ejwhTOjjm5tU_21QzP3xSS3i33XZErRLq4"
      ]
    },
    {
      "cell_type": "code",
      "execution_count": null,
      "metadata": {
        "id": "IaFrL8X6a8uO"
      },
      "outputs": [],
      "source": [
        "from fastapi import FastAPI, File, UploadFile\n",
        "from fastapi.middleware.cors import CORSMiddleware\n",
        "from pydantic import BaseModel\n",
        "from fastapi.responses import JSONResponse\n",
        "import io\n",
        "import base64\n",
        "\n",
        "class Item(BaseModel):\n",
        "    image: str\n",
        "\n",
        "app = FastAPI()\n",
        "\n",
        "app.add_middleware(\n",
        "    CORSMiddleware,\n",
        "    allow_origins=['*'],\n",
        "    allow_credentials=True,\n",
        "    allow_methods=['*'],\n",
        "    allow_headers=['*'],\n",
        ")\n",
        "\n",
        "@app.get('/')\n",
        "async def root():\n",
        "    return {'hello': 'world'}\n",
        "\n",
        "@app.post('/predict')\n",
        "async def upload_image(image: Item):\n",
        "  try:\n",
        "    base64_string=image.image.replace(\"data:image/jpeg;base64,\",\"\")\n",
        "    decoded_data=base64.b64decode((base64_string))\n",
        "    img_file = open('image.jpg', 'wb')\n",
        "    img_file.write(decoded_data)\n",
        "    img_file.close()\n",
        "    image_feature = image_extractor('image.jpg')\n",
        "    im_o = np.vstack(image_feature).astype(float)\n",
        "    tex_o = X_test[:,5][num]\n",
        "    predict_sentence = beam(im_o)\n",
        "    return JSONResponse(content={\"predict\": predict_sentence})\n",
        "  except Exception as e:\n",
        "        return JSONResponse(content={\"error\": str(e)}, status_code=500)"
      ]
    },
    {
      "cell_type": "code",
      "execution_count": null,
      "metadata": {
        "id": "20HJ20vGbBHM"
      },
      "outputs": [],
      "source": [
        "from pyngrok import ngrok\n",
        "ngrok.kill()"
      ]
    },
    {
      "cell_type": "code",
      "execution_count": null,
      "metadata": {
        "colab": {
          "background_save": true,
          "base_uri": "https://localhost:8080/"
        },
        "id": "NIn9CRK8bC24",
        "outputId": "061d56d2-2cd9-48d9-eb6b-e6f2a733829c"
      },
      "outputs": [
        {
          "name": "stdout",
          "output_type": "stream",
          "text": [
            "Public URL: https://4073-34-74-175-88.ngrok-free.app\n"
          ]
        },
        {
          "name": "stderr",
          "output_type": "stream",
          "text": [
            "INFO:     Started server process [354]\n",
            "INFO:     Waiting for application startup.\n",
            "INFO:     Application startup complete.\n",
            "INFO:     Uvicorn running on http://127.0.0.1:9000 (Press CTRL+C to quit)\n"
          ]
        },
        {
          "name": "stdout",
          "output_type": "stream",
          "text": [
            "INFO:     193.255.169.22:0 - \"OPTIONS /predict HTTP/1.1\" 200 OK\n",
            "1/1 [==============================] - 2s 2s/step\n",
            "1/1 [==============================] - 0s 148ms/step\n",
            "INFO:     193.255.169.22:0 - \"POST /predict HTTP/1.1\" 200 OK\n",
            "INFO:     193.255.169.22:0 - \"OPTIONS /predict HTTP/1.1\" 200 OK\n",
            "1/1 [==============================] - 0s 231ms/step\n",
            "1/1 [==============================] - 0s 151ms/step\n",
            "INFO:     193.255.169.22:0 - \"POST /predict HTTP/1.1\" 200 OK\n",
            "1/1 [==============================] - 0s 146ms/step\n",
            "1/1 [==============================] - 0s 146ms/step\n",
            "INFO:     193.255.169.22:0 - \"POST /predict HTTP/1.1\" 200 OK\n",
            "INFO:     193.255.169.22:0 - \"OPTIONS /predict HTTP/1.1\" 200 OK\n",
            "1/1 [==============================] - 0s 305ms/step\n",
            "1/1 [==============================] - 0s 316ms/step\n",
            "INFO:     193.255.169.22:0 - \"POST /predict HTTP/1.1\" 200 OK\n",
            "1/1 [==============================] - 0s 145ms/step\n",
            "1/1 [==============================] - 0s 153ms/step\n",
            "INFO:     193.255.169.22:0 - \"POST /predict HTTP/1.1\" 200 OK\n",
            "INFO:     193.255.169.22:0 - \"OPTIONS /predict HTTP/1.1\" 200 OK\n",
            "1/1 [==============================] - 0s 162ms/step\n",
            "1/1 [==============================] - 0s 152ms/step\n",
            "INFO:     193.255.169.22:0 - \"POST /predict HTTP/1.1\" 200 OK\n",
            "INFO:     193.255.169.22:0 - \"OPTIONS /predict HTTP/1.1\" 200 OK\n",
            "1/1 [==============================] - 0s 167ms/step\n",
            "1/1 [==============================] - 0s 160ms/step\n",
            "INFO:     193.255.169.22:0 - \"POST /predict HTTP/1.1\" 200 OK\n",
            "1/1 [==============================] - 0s 150ms/step\n",
            "1/1 [==============================] - 0s 159ms/step\n",
            "INFO:     193.255.169.22:0 - \"POST /predict HTTP/1.1\" 200 OK\n",
            "1/1 [==============================] - 0s 156ms/step\n",
            "1/1 [==============================] - 0s 151ms/step\n",
            "INFO:     193.255.169.22:0 - \"POST /predict HTTP/1.1\" 200 OK\n",
            "INFO:     193.255.169.22:0 - \"OPTIONS /predict HTTP/1.1\" 200 OK\n",
            "1/1 [==============================] - 0s 156ms/step\n",
            "1/1 [==============================] - 0s 146ms/step\n",
            "INFO:     193.255.169.22:0 - \"POST /predict HTTP/1.1\" 200 OK\n",
            "1/1 [==============================] - 0s 148ms/step\n",
            "1/1 [==============================] - 0s 146ms/step\n",
            "INFO:     193.255.169.22:0 - \"POST /predict HTTP/1.1\" 200 OK\n"
          ]
        }
      ],
      "source": [
        "import nest_asyncio\n",
        "from pyngrok import ngrok\n",
        "import uvicorn\n",
        "\n",
        "ngrok_tunnel = ngrok.connect(9000)\n",
        "print('Public URL:', ngrok_tunnel.public_url)\n",
        "nest_asyncio.apply()\n",
        "uvicorn.run(app, host=\"127.0.0.1\", port=9000)\n"
      ]
    }
  ],
  "metadata": {
    "colab": {
      "provenance": []
    },
    "kernelspec": {
      "display_name": "Python 3",
      "name": "python3"
    },
    "language_info": {
      "name": "python"
    }
  },
  "nbformat": 4,
  "nbformat_minor": 0
}